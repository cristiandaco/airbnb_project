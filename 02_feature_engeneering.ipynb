{
 "cells": [
  {
   "cell_type": "markdown",
   "id": "def2dd16",
   "metadata": {},
   "source": [
    "# 0.0. Intruducao"
   ]
  },
  {
   "cell_type": "markdown",
   "id": "1fafd991",
   "metadata": {},
   "source": [
    "## 0.1. Biblíotecas"
   ]
  },
  {
   "cell_type": "code",
   "execution_count": 50,
   "id": "9ad7705a",
   "metadata": {
    "ExecuteTime": {
     "end_time": "2022-03-15T11:41:25.110852Z",
     "start_time": "2022-03-15T11:41:25.096841Z"
    }
   },
   "outputs": [],
   "source": [
    "import pandas            as pd\n",
    "import numpy             as np\n",
    "import seaborn           as sns\n",
    "import matplotlib.pyplot as plt\n",
    "\n",
    "from scipy    import stats          as ss\n",
    "from imblearn import under_sampling as us\n",
    "from imblearn import over_sampling as oversemp\n",
    "\n",
    "import warnings\n",
    "\n",
    "warnings.filterwarnings('ignore')"
   ]
  },
  {
   "cell_type": "markdown",
   "id": "4e518e4b",
   "metadata": {},
   "source": [
    "## 0.2. Loading dos Dados"
   ]
  },
  {
   "cell_type": "code",
   "execution_count": 7,
   "id": "2831cace",
   "metadata": {
    "ExecuteTime": {
     "end_time": "2022-03-15T10:42:17.023712Z",
     "start_time": "2022-03-15T10:42:15.604203Z"
    }
   },
   "outputs": [],
   "source": [
    "df = pd.read_csv( 'train_users_2.csv', low_memory = True )\n",
    "df_sessions = pd.read_csv( 'sessions.csv', low_memory= True )"
   ]
  },
  {
   "cell_type": "markdown",
   "id": "63388e17",
   "metadata": {},
   "source": [
    "## 0.3. Funcoes Auxiliares"
   ]
  },
  {
   "cell_type": "code",
   "execution_count": 8,
   "id": "9ff16167",
   "metadata": {
    "ExecuteTime": {
     "end_time": "2022-03-15T10:42:17.039671Z",
     "start_time": "2022-03-15T10:42:17.024716Z"
    }
   },
   "outputs": [],
   "source": [
    "# get_stats\n",
    "def get_stats(x):\n",
    "    # Tendencia Central - mean, median\n",
    "    tc1 = pd.DataFrame( x.apply( np.mean ) ).T\n",
    "    tc2 = pd.DataFrame( x.apply( np.median ) ).T\n",
    "\n",
    "    # Tendencia de dispersao - std, min, max, range, skew, kurtosis\n",
    "    td1 = pd.DataFrame( x.apply( np.std ) ).T\n",
    "    td2 = pd.DataFrame( x.apply( min ) ).T\n",
    "    td3 = pd.DataFrame( x.apply( max ) ).T\n",
    "    td4 = pd.DataFrame( x.apply( lambda i: i.max() - i.min() ) ).T\n",
    "    td5 = pd.DataFrame( x.apply( lambda i: i.skew() ) ).T\n",
    "    td6 = pd.DataFrame( x.apply( lambda i: i.kurtosis() ) ).T\n",
    "\n",
    "    # concat\n",
    "    ct = pd.concat( [td2, td3, td4, tc1, tc2, td1, td5, td6] ).T.reset_index()\n",
    "    ct.columns = ['atributos', 'min', 'max', 'range', 'media', 'mediana', 'std', 'skew', 'kurtosis']\n",
    "    \n",
    "    return ct\n",
    "\n",
    "#cramer_v function\n",
    "def cramer_v( x, y ):\n",
    "    cm = pd.crosstab( x, y ).to_numpy()\n",
    "    n = cm.sum()\n",
    "    r, k = cm.shape\n",
    "    \n",
    "    chi2 = ss.chi2_contingency( cm )[0]\n",
    "    chi2corr = max( 0, chi2 - (k - 1) * (r - 1) / (n-1) )\n",
    "    \n",
    "    kcorr = k - ( k - 1 ) ** 2 / ( n - 1 )\n",
    "    rcorr = r - ( r - 1 ) ** 2 / ( n - 1 )\n",
    "    \n",
    "    return np.sqrt( (chi2corr / n) / (min( kcorr-1, rcorr-1 ) ) )"
   ]
  },
  {
   "cell_type": "markdown",
   "id": "9f2d5a97",
   "metadata": {},
   "source": [
    "# 1.0. Descricao dos Dados"
   ]
  },
  {
   "cell_type": "code",
   "execution_count": 9,
   "id": "6840bcfd",
   "metadata": {
    "ExecuteTime": {
     "end_time": "2022-03-15T10:42:17.087318Z",
     "start_time": "2022-03-15T10:42:17.043703Z"
    }
   },
   "outputs": [],
   "source": [
    "df1 = df.copy()\n",
    "df1_sessions = df_sessions"
   ]
  },
  {
   "cell_type": "markdown",
   "id": "527ed7ed",
   "metadata": {},
   "source": [
    "## 1.1. Dimensionalidade"
   ]
  },
  {
   "cell_type": "code",
   "execution_count": 10,
   "id": "dd911ccd",
   "metadata": {
    "ExecuteTime": {
     "end_time": "2022-03-15T10:42:17.103260Z",
     "start_time": "2022-03-15T10:42:17.088309Z"
    }
   },
   "outputs": [
    {
     "name": "stdout",
     "output_type": "stream",
     "text": [
      "Número de linhas: 213451\n",
      "Número de colunas: 16\n"
     ]
    }
   ],
   "source": [
    "print( 'Número de linhas: {}'.format( df1.shape[0] ) )\n",
    "print( 'Número de colunas: {}'.format( df1.shape[1] ) )"
   ]
  },
  {
   "cell_type": "code",
   "execution_count": 11,
   "id": "03fa997d",
   "metadata": {
    "ExecuteTime": {
     "end_time": "2022-03-15T10:42:17.119208Z",
     "start_time": "2022-03-15T10:42:17.105254Z"
    }
   },
   "outputs": [
    {
     "name": "stdout",
     "output_type": "stream",
     "text": [
      "Número de linhas: 1056773\n",
      "Número de colunas: 6\n"
     ]
    }
   ],
   "source": [
    "print( 'Número de linhas: {}'.format( df1_sessions.shape[0] ) )\n",
    "print( 'Número de colunas: {}'.format( df1_sessions.shape[1] ) )"
   ]
  },
  {
   "cell_type": "markdown",
   "id": "e14be3bd",
   "metadata": {},
   "source": [
    "## 1.2. Data type"
   ]
  },
  {
   "cell_type": "code",
   "execution_count": 12,
   "id": "6220be35",
   "metadata": {
    "ExecuteTime": {
     "end_time": "2022-03-15T10:42:17.135162Z",
     "start_time": "2022-03-15T10:42:17.121199Z"
    }
   },
   "outputs": [
    {
     "data": {
      "text/plain": [
       "id                          object\n",
       "date_account_created        object\n",
       "timestamp_first_active       int64\n",
       "date_first_booking          object\n",
       "gender                      object\n",
       "age                        float64\n",
       "signup_method               object\n",
       "signup_flow                  int64\n",
       "language                    object\n",
       "affiliate_channel           object\n",
       "affiliate_provider          object\n",
       "first_affiliate_tracked     object\n",
       "signup_app                  object\n",
       "first_device_type           object\n",
       "first_browser               object\n",
       "country_destination         object\n",
       "dtype: object"
      ]
     },
     "execution_count": 12,
     "metadata": {},
     "output_type": "execute_result"
    }
   ],
   "source": [
    "df1.dtypes"
   ]
  },
  {
   "cell_type": "code",
   "execution_count": 13,
   "id": "81f5cda4",
   "metadata": {
    "ExecuteTime": {
     "end_time": "2022-03-15T10:42:17.150103Z",
     "start_time": "2022-03-15T10:42:17.137148Z"
    }
   },
   "outputs": [
    {
     "data": {
      "text/plain": [
       "user_id           object\n",
       "action            object\n",
       "action_type       object\n",
       "action_detail     object\n",
       "device_type       object\n",
       "secs_elapsed     float64\n",
       "dtype: object"
      ]
     },
     "execution_count": 13,
     "metadata": {},
     "output_type": "execute_result"
    }
   ],
   "source": [
    "df1_sessions.dtypes"
   ]
  },
  {
   "cell_type": "code",
   "execution_count": 14,
   "id": "88d0587a",
   "metadata": {
    "ExecuteTime": {
     "end_time": "2022-03-15T10:42:17.196947Z",
     "start_time": "2022-03-15T10:42:17.151100Z"
    }
   },
   "outputs": [
    {
     "data": {
      "text/plain": [
       "NDF      0.768428\n",
       "US       0.156529\n",
       "other    0.028617\n",
       "FR       0.014888\n",
       "IT       0.009081\n",
       "GB       0.006251\n",
       "ES       0.006171\n",
       "CA       0.003989\n",
       "DE       0.002387\n",
       "NL       0.001818\n",
       "AU       0.001171\n",
       "PT       0.000671\n",
       "Name: country_destination, dtype: float64"
      ]
     },
     "execution_count": 14,
     "metadata": {},
     "output_type": "execute_result"
    }
   ],
   "source": [
    "aux = df1[df1['age'].isna()]\n",
    "aux['country_destination'].value_counts( normalize=True )"
   ]
  },
  {
   "cell_type": "markdown",
   "id": "5e5759ed",
   "metadata": {},
   "source": [
    "## 1.2. Check Na"
   ]
  },
  {
   "cell_type": "markdown",
   "id": "ef6f5edb",
   "metadata": {},
   "source": [
    "### 1.2.1. Check df1"
   ]
  },
  {
   "cell_type": "code",
   "execution_count": 15,
   "id": "b19baca8",
   "metadata": {
    "ExecuteTime": {
     "end_time": "2022-03-15T10:42:17.525385Z",
     "start_time": "2022-03-15T10:42:17.201931Z"
    }
   },
   "outputs": [
    {
     "data": {
      "text/plain": [
       "id                         0.000000\n",
       "date_account_created       0.000000\n",
       "timestamp_first_active     0.000000\n",
       "date_first_booking         0.583473\n",
       "gender                     0.000000\n",
       "age                        0.412226\n",
       "signup_method              0.000000\n",
       "signup_flow                0.000000\n",
       "language                   0.000000\n",
       "affiliate_channel          0.000000\n",
       "affiliate_provider         0.000000\n",
       "first_affiliate_tracked    0.028414\n",
       "signup_app                 0.000000\n",
       "first_device_type          0.000000\n",
       "first_browser              0.000000\n",
       "country_destination        0.000000\n",
       "dtype: float64"
      ]
     },
     "execution_count": 15,
     "metadata": {},
     "output_type": "execute_result"
    }
   ],
   "source": [
    "#porcentagem dos dados faltantes por feature\n",
    "df1.isna().sum() / len( df1 )"
   ]
  },
  {
   "cell_type": "code",
   "execution_count": 16,
   "id": "946cc5e0",
   "metadata": {
    "ExecuteTime": {
     "end_time": "2022-03-15T10:42:17.694851Z",
     "start_time": "2022-03-15T10:42:17.526382Z"
    }
   },
   "outputs": [
    {
     "data": {
      "text/plain": [
       "(207386, 16)"
      ]
     },
     "execution_count": 16,
     "metadata": {},
     "output_type": "execute_result"
    }
   ],
   "source": [
    "# remover missing values\n",
    "\n",
    "#date_first_booking\n",
    "date_first_booking_max = pd.to_datetime( df1['date_first_booking'] ).max().strftime( '%Y-%m-%d' )\n",
    "df1['date_first_booking'] = df1['date_first_booking'].fillna( date_first_booking_max )\n",
    "\n",
    "#age\n",
    "avg_age = df1['age'].mean().astype( int )\n",
    "df1['age'] = df1['age'].fillna( avg_age )\n",
    "\n",
    "#first_affiliate_tracked\n",
    "df1 = df1[~df1['first_affiliate_tracked'].isna()]\n",
    "\n",
    "df1.shape"
   ]
  },
  {
   "cell_type": "markdown",
   "id": "0f5c4d68",
   "metadata": {},
   "source": [
    "### 1.2.2. Check df1_sessions"
   ]
  },
  {
   "cell_type": "code",
   "execution_count": 17,
   "id": "24327701",
   "metadata": {
    "ExecuteTime": {
     "end_time": "2022-03-15T10:42:18.303649Z",
     "start_time": "2022-03-15T10:42:17.696848Z"
    }
   },
   "outputs": [
    {
     "data": {
      "text/plain": [
       "user_id          0.003225\n",
       "action           0.007399\n",
       "action_type      0.106714\n",
       "action_detail    0.106714\n",
       "device_type      0.000000\n",
       "secs_elapsed     0.012966\n",
       "dtype: float64"
      ]
     },
     "execution_count": 17,
     "metadata": {},
     "output_type": "execute_result"
    }
   ],
   "source": [
    "#porcentagem dos dados faltantes por feature\n",
    "df1_sessions.isna().sum() / len( df1_sessions )"
   ]
  },
  {
   "cell_type": "code",
   "execution_count": 18,
   "id": "bf6c3521",
   "metadata": {
    "ExecuteTime": {
     "end_time": "2022-03-15T10:42:18.776147Z",
     "start_time": "2022-03-15T10:42:18.305631Z"
    }
   },
   "outputs": [],
   "source": [
    "# drop na\n",
    "\n",
    "#user_id - 0.3%\n",
    "df1_sessions = df1_sessions[~df1_sessions['user_id'].isna()]\n",
    "\n",
    "#action - 0.7%\n",
    "df1_sessions = df1_sessions[~df1_sessions['action'].isna()]\n",
    "\n",
    "#action_type - 10.6%\n",
    "df1_sessions = df1_sessions[~df1_sessions['action_type'].isna()]\n",
    "\n",
    "#action_detail - 10.6%\n",
    "df1_sessions = df1_sessions[~df1_sessions['action_detail'].isna()]\n",
    "\n",
    "#secs_elepsed - 1.2%\n",
    "df1_sessions = df1_sessions[~df1_sessions['secs_elapsed'].isna()]"
   ]
  },
  {
   "cell_type": "markdown",
   "id": "e81d9d63",
   "metadata": {
    "ExecuteTime": {
     "end_time": "2022-01-18T00:30:57.640310Z",
     "start_time": "2022-01-18T00:30:57.552647Z"
    }
   },
   "source": [
    "## 1.3. Change Types"
   ]
  },
  {
   "cell_type": "code",
   "execution_count": 19,
   "id": "e3965c22",
   "metadata": {
    "ExecuteTime": {
     "end_time": "2022-03-15T10:42:19.554375Z",
     "start_time": "2022-03-15T10:42:18.778148Z"
    }
   },
   "outputs": [],
   "source": [
    "#date_account_created\n",
    "df1['date_account_created'] = pd.to_datetime( df['date_account_created'] )\n",
    "\n",
    "#timestamp_first_active\n",
    "df1['timestamp_first_active'] = pd.to_datetime( df['timestamp_first_active'], format = \"%Y%m%d%H%M%S\" )\n",
    "\n",
    "#date_first_booking\n",
    "df1['date_first_booking'] = pd.to_datetime( df1['date_first_booking'] )\n",
    "\n",
    "#age\n",
    "df1['age'] = df1['age'].astype( int )"
   ]
  },
  {
   "cell_type": "markdown",
   "id": "e460c940",
   "metadata": {},
   "source": [
    "## 1.4. Check Balancemento dos Dados"
   ]
  },
  {
   "cell_type": "code",
   "execution_count": 20,
   "id": "bae0d561",
   "metadata": {
    "ExecuteTime": {
     "end_time": "2022-03-15T10:42:19.585207Z",
     "start_time": "2022-03-15T10:42:19.556306Z"
    }
   },
   "outputs": [
    {
     "data": {
      "text/plain": [
       "NDF      0.579673\n",
       "US       0.294461\n",
       "other    0.048128\n",
       "FR       0.023623\n",
       "IT       0.013458\n",
       "GB       0.011066\n",
       "ES       0.010671\n",
       "CA       0.006707\n",
       "DE       0.005020\n",
       "NL       0.003621\n",
       "AU       0.002541\n",
       "PT       0.001032\n",
       "Name: country_destination, dtype: float64"
      ]
     },
     "execution_count": 20,
     "metadata": {},
     "output_type": "execute_result"
    }
   ],
   "source": [
    "df1['country_destination'].value_counts( normalize=True )"
   ]
  },
  {
   "cell_type": "markdown",
   "id": "91ae983c",
   "metadata": {},
   "source": [
    "## 1.5. Estatistica Descritiva"
   ]
  },
  {
   "cell_type": "code",
   "execution_count": 21,
   "id": "b2724d01",
   "metadata": {
    "ExecuteTime": {
     "end_time": "2022-03-15T10:42:19.600164Z",
     "start_time": "2022-03-15T10:42:19.587202Z"
    }
   },
   "outputs": [],
   "source": [
    "atributos_num = df1.select_dtypes( include = [int, 'float64'] )\n",
    "atributos_cat = df1.select_dtypes( exclude = [int, 'float64', 'datetime64[ns]'] )\n",
    "atributos_time = df1.select_dtypes( include = ['datetime64[ns]'] )"
   ]
  },
  {
   "cell_type": "code",
   "execution_count": 22,
   "id": "92c382db",
   "metadata": {
    "ExecuteTime": {
     "end_time": "2022-03-15T10:42:19.616106Z",
     "start_time": "2022-03-15T10:42:19.603150Z"
    }
   },
   "outputs": [],
   "source": [
    "atributos_num_sessions = df1_sessions.select_dtypes( include = ['float64'] )\n",
    "atributos_cat_sessions = df1_sessions.select_dtypes( exclude = ['float64'] )"
   ]
  },
  {
   "cell_type": "markdown",
   "id": "51143533",
   "metadata": {
    "ExecuteTime": {
     "end_time": "2022-01-26T00:10:03.436218Z",
     "start_time": "2022-01-26T00:10:03.421031Z"
    }
   },
   "source": [
    "### 1.5.1. Atributos Numericos"
   ]
  },
  {
   "cell_type": "markdown",
   "id": "fd2d1188",
   "metadata": {},
   "source": [
    "#### 1.5.1.1. Users"
   ]
  },
  {
   "cell_type": "code",
   "execution_count": 23,
   "id": "66d67263",
   "metadata": {
    "ExecuteTime": {
     "end_time": "2022-03-15T10:42:19.799512Z",
     "start_time": "2022-03-15T10:42:19.620095Z"
    }
   },
   "outputs": [
    {
     "data": {
      "text/html": [
       "<div>\n",
       "<style scoped>\n",
       "    .dataframe tbody tr th:only-of-type {\n",
       "        vertical-align: middle;\n",
       "    }\n",
       "\n",
       "    .dataframe tbody tr th {\n",
       "        vertical-align: top;\n",
       "    }\n",
       "\n",
       "    .dataframe thead th {\n",
       "        text-align: right;\n",
       "    }\n",
       "</style>\n",
       "<table border=\"1\" class=\"dataframe\">\n",
       "  <thead>\n",
       "    <tr style=\"text-align: right;\">\n",
       "      <th></th>\n",
       "      <th>atributos</th>\n",
       "      <th>min</th>\n",
       "      <th>max</th>\n",
       "      <th>range</th>\n",
       "      <th>media</th>\n",
       "      <th>mediana</th>\n",
       "      <th>std</th>\n",
       "      <th>skew</th>\n",
       "      <th>kurtosis</th>\n",
       "    </tr>\n",
       "  </thead>\n",
       "  <tbody>\n",
       "    <tr>\n",
       "      <th>0</th>\n",
       "      <td>age</td>\n",
       "      <td>1.0</td>\n",
       "      <td>2014.0</td>\n",
       "      <td>2013.0</td>\n",
       "      <td>49.183142</td>\n",
       "      <td>49.0</td>\n",
       "      <td>118.421689</td>\n",
       "      <td>16.333820</td>\n",
       "      <td>267.655434</td>\n",
       "    </tr>\n",
       "    <tr>\n",
       "      <th>1</th>\n",
       "      <td>signup_flow</td>\n",
       "      <td>0.0</td>\n",
       "      <td>25.0</td>\n",
       "      <td>25.0</td>\n",
       "      <td>3.151490</td>\n",
       "      <td>0.0</td>\n",
       "      <td>7.543915</td>\n",
       "      <td>2.287158</td>\n",
       "      <td>3.567794</td>\n",
       "    </tr>\n",
       "  </tbody>\n",
       "</table>\n",
       "</div>"
      ],
      "text/plain": [
       "     atributos  min     max   range      media  mediana         std  \\\n",
       "0          age  1.0  2014.0  2013.0  49.183142     49.0  118.421689   \n",
       "1  signup_flow  0.0    25.0    25.0   3.151490      0.0    7.543915   \n",
       "\n",
       "        skew    kurtosis  \n",
       "0  16.333820  267.655434  \n",
       "1   2.287158    3.567794  "
      ]
     },
     "execution_count": 23,
     "metadata": {},
     "output_type": "execute_result"
    }
   ],
   "source": [
    "get_stats( atributos_num )"
   ]
  },
  {
   "cell_type": "markdown",
   "id": "c532288c",
   "metadata": {},
   "source": [
    "#### 1.5.1.2. Sessions"
   ]
  },
  {
   "cell_type": "code",
   "execution_count": 24,
   "id": "37049d4b",
   "metadata": {
    "ExecuteTime": {
     "end_time": "2022-03-15T10:42:20.109384Z",
     "start_time": "2022-03-15T10:42:19.824313Z"
    }
   },
   "outputs": [
    {
     "data": {
      "text/html": [
       "<div>\n",
       "<style scoped>\n",
       "    .dataframe tbody tr th:only-of-type {\n",
       "        vertical-align: middle;\n",
       "    }\n",
       "\n",
       "    .dataframe tbody tr th {\n",
       "        vertical-align: top;\n",
       "    }\n",
       "\n",
       "    .dataframe thead th {\n",
       "        text-align: right;\n",
       "    }\n",
       "</style>\n",
       "<table border=\"1\" class=\"dataframe\">\n",
       "  <thead>\n",
       "    <tr style=\"text-align: right;\">\n",
       "      <th></th>\n",
       "      <th>atributos</th>\n",
       "      <th>min</th>\n",
       "      <th>max</th>\n",
       "      <th>range</th>\n",
       "      <th>media</th>\n",
       "      <th>mediana</th>\n",
       "      <th>std</th>\n",
       "      <th>skew</th>\n",
       "      <th>kurtosis</th>\n",
       "    </tr>\n",
       "  </thead>\n",
       "  <tbody>\n",
       "    <tr>\n",
       "      <th>0</th>\n",
       "      <td>secs_elapsed</td>\n",
       "      <td>0.0</td>\n",
       "      <td>1799646.0</td>\n",
       "      <td>1799646.0</td>\n",
       "      <td>20072.882262</td>\n",
       "      <td>1373.0</td>\n",
       "      <td>89371.933206</td>\n",
       "      <td>11.100057</td>\n",
       "      <td>153.74554</td>\n",
       "    </tr>\n",
       "  </tbody>\n",
       "</table>\n",
       "</div>"
      ],
      "text/plain": [
       "      atributos  min        max      range         media  mediana  \\\n",
       "0  secs_elapsed  0.0  1799646.0  1799646.0  20072.882262   1373.0   \n",
       "\n",
       "            std       skew   kurtosis  \n",
       "0  89371.933206  11.100057  153.74554  "
      ]
     },
     "execution_count": 24,
     "metadata": {},
     "output_type": "execute_result"
    }
   ],
   "source": [
    "get_stats( atributos_num_sessions )"
   ]
  },
  {
   "cell_type": "markdown",
   "id": "9f1b21e7",
   "metadata": {},
   "source": [
    "### 1.5.2. Atributos Categoricos"
   ]
  },
  {
   "cell_type": "markdown",
   "id": "48460760",
   "metadata": {},
   "source": [
    "#### 1.5.2.1. Users"
   ]
  },
  {
   "cell_type": "code",
   "execution_count": 25,
   "id": "a6d09b2e",
   "metadata": {
    "ExecuteTime": {
     "end_time": "2022-03-15T10:42:20.668649Z",
     "start_time": "2022-03-15T10:42:20.451058Z"
    }
   },
   "outputs": [
    {
     "data": {
      "text/html": [
       "<div>\n",
       "<style scoped>\n",
       "    .dataframe tbody tr th:only-of-type {\n",
       "        vertical-align: middle;\n",
       "    }\n",
       "\n",
       "    .dataframe tbody tr th {\n",
       "        vertical-align: top;\n",
       "    }\n",
       "\n",
       "    .dataframe thead th {\n",
       "        text-align: right;\n",
       "    }\n",
       "</style>\n",
       "<table border=\"1\" class=\"dataframe\">\n",
       "  <thead>\n",
       "    <tr style=\"text-align: right;\">\n",
       "      <th></th>\n",
       "      <th>gender</th>\n",
       "      <th>signup_method</th>\n",
       "      <th>language</th>\n",
       "      <th>affiliate_channel</th>\n",
       "      <th>affiliate_provider</th>\n",
       "      <th>first_affiliate_tracked</th>\n",
       "      <th>signup_app</th>\n",
       "      <th>first_device_type</th>\n",
       "      <th>first_browser</th>\n",
       "      <th>country_destination</th>\n",
       "    </tr>\n",
       "  </thead>\n",
       "  <tbody>\n",
       "    <tr>\n",
       "      <th>count</th>\n",
       "      <td>207386</td>\n",
       "      <td>207386</td>\n",
       "      <td>207386</td>\n",
       "      <td>207386</td>\n",
       "      <td>207386</td>\n",
       "      <td>207386</td>\n",
       "      <td>207386</td>\n",
       "      <td>207386</td>\n",
       "      <td>207386</td>\n",
       "      <td>207386</td>\n",
       "    </tr>\n",
       "    <tr>\n",
       "      <th>unique</th>\n",
       "      <td>4</td>\n",
       "      <td>3</td>\n",
       "      <td>25</td>\n",
       "      <td>8</td>\n",
       "      <td>18</td>\n",
       "      <td>7</td>\n",
       "      <td>4</td>\n",
       "      <td>9</td>\n",
       "      <td>52</td>\n",
       "      <td>12</td>\n",
       "    </tr>\n",
       "    <tr>\n",
       "      <th>top</th>\n",
       "      <td>-unknown-</td>\n",
       "      <td>basic</td>\n",
       "      <td>en</td>\n",
       "      <td>direct</td>\n",
       "      <td>direct</td>\n",
       "      <td>untracked</td>\n",
       "      <td>Web</td>\n",
       "      <td>Mac Desktop</td>\n",
       "      <td>Chrome</td>\n",
       "      <td>NDF</td>\n",
       "    </tr>\n",
       "    <tr>\n",
       "      <th>freq</th>\n",
       "      <td>91783</td>\n",
       "      <td>148297</td>\n",
       "      <td>200415</td>\n",
       "      <td>134179</td>\n",
       "      <td>133935</td>\n",
       "      <td>109232</td>\n",
       "      <td>178334</td>\n",
       "      <td>89600</td>\n",
       "      <td>63845</td>\n",
       "      <td>120216</td>\n",
       "    </tr>\n",
       "  </tbody>\n",
       "</table>\n",
       "</div>"
      ],
      "text/plain": [
       "           gender signup_method language affiliate_channel affiliate_provider  \\\n",
       "count      207386        207386   207386            207386             207386   \n",
       "unique          4             3       25                 8                 18   \n",
       "top     -unknown-         basic       en            direct             direct   \n",
       "freq        91783        148297   200415            134179             133935   \n",
       "\n",
       "       first_affiliate_tracked signup_app first_device_type first_browser  \\\n",
       "count                   207386     207386            207386        207386   \n",
       "unique                       7          4                 9            52   \n",
       "top                  untracked        Web       Mac Desktop        Chrome   \n",
       "freq                    109232     178334             89600         63845   \n",
       "\n",
       "       country_destination  \n",
       "count               207386  \n",
       "unique                  12  \n",
       "top                    NDF  \n",
       "freq                120216  "
      ]
     },
     "execution_count": 25,
     "metadata": {},
     "output_type": "execute_result"
    }
   ],
   "source": [
    "atributos_cat.drop( 'id', axis = 1 ).describe()"
   ]
  },
  {
   "cell_type": "markdown",
   "id": "4002e6f6",
   "metadata": {},
   "source": [
    "#### 1.5.2.2. Sessions"
   ]
  },
  {
   "cell_type": "code",
   "execution_count": 26,
   "id": "7b297d3a",
   "metadata": {
    "ExecuteTime": {
     "end_time": "2022-03-15T10:42:21.505379Z",
     "start_time": "2022-03-15T10:42:21.141241Z"
    }
   },
   "outputs": [
    {
     "data": {
      "text/html": [
       "<div>\n",
       "<style scoped>\n",
       "    .dataframe tbody tr th:only-of-type {\n",
       "        vertical-align: middle;\n",
       "    }\n",
       "\n",
       "    .dataframe tbody tr th {\n",
       "        vertical-align: top;\n",
       "    }\n",
       "\n",
       "    .dataframe thead th {\n",
       "        text-align: right;\n",
       "    }\n",
       "</style>\n",
       "<table border=\"1\" class=\"dataframe\">\n",
       "  <thead>\n",
       "    <tr style=\"text-align: right;\">\n",
       "      <th></th>\n",
       "      <th>action</th>\n",
       "      <th>action_type</th>\n",
       "      <th>action_detail</th>\n",
       "      <th>device_type</th>\n",
       "    </tr>\n",
       "  </thead>\n",
       "  <tbody>\n",
       "    <tr>\n",
       "      <th>count</th>\n",
       "      <td>921283</td>\n",
       "      <td>921283</td>\n",
       "      <td>921283</td>\n",
       "      <td>921283</td>\n",
       "    </tr>\n",
       "    <tr>\n",
       "      <th>unique</th>\n",
       "      <td>297</td>\n",
       "      <td>9</td>\n",
       "      <td>147</td>\n",
       "      <td>14</td>\n",
       "    </tr>\n",
       "    <tr>\n",
       "      <th>top</th>\n",
       "      <td>show</td>\n",
       "      <td>view</td>\n",
       "      <td>view_search_results</td>\n",
       "      <td>Mac Desktop</td>\n",
       "    </tr>\n",
       "    <tr>\n",
       "      <th>freq</th>\n",
       "      <td>217606</td>\n",
       "      <td>354973</td>\n",
       "      <td>177324</td>\n",
       "      <td>302022</td>\n",
       "    </tr>\n",
       "  </tbody>\n",
       "</table>\n",
       "</div>"
      ],
      "text/plain": [
       "        action action_type        action_detail  device_type\n",
       "count   921283      921283               921283       921283\n",
       "unique     297           9                  147           14\n",
       "top       show        view  view_search_results  Mac Desktop\n",
       "freq    217606      354973               177324       302022"
      ]
     },
     "execution_count": 26,
     "metadata": {},
     "output_type": "execute_result"
    }
   ],
   "source": [
    "atributos_cat_sessions.drop( 'user_id', axis = 1 ).describe()"
   ]
  },
  {
   "cell_type": "markdown",
   "id": "c08bc2b9",
   "metadata": {},
   "source": [
    "### 1.5.3. Correlacao entre as variáveis categoricas"
   ]
  },
  {
   "cell_type": "code",
   "execution_count": 27,
   "id": "be448fc5",
   "metadata": {
    "ExecuteTime": {
     "end_time": "2022-03-15T10:42:25.731120Z",
     "start_time": "2022-03-15T10:42:21.878137Z"
    }
   },
   "outputs": [],
   "source": [
    "# lista de atributos para a corralação de Cramer V\n",
    "cat_atributos_list = atributos_cat_sessions.drop( 'user_id', axis = 1 ).columns.tolist()\n",
    "\n",
    "corr_dict = {}\n",
    "\n",
    "for i in range( len( cat_atributos_list ) ):\n",
    "    corr_list = []\n",
    "    for j in range( len( cat_atributos_list ) ):\n",
    "        ref = cat_atributos_list[i]\n",
    "        feat = cat_atributos_list[j]\n",
    "        \n",
    "        # correlacao\n",
    "        corr = cramer_v( atributos_cat_sessions[ref], atributos_cat_sessions[feat])\n",
    "        \n",
    "        # append a list\n",
    "        corr_list.append( corr )\n",
    "    \n",
    "    # append a lista de correção para cada atributo\n",
    "    corr_dict[ref] = corr_list"
   ]
  },
  {
   "cell_type": "code",
   "execution_count": 28,
   "id": "c508e480",
   "metadata": {
    "ExecuteTime": {
     "end_time": "2022-03-15T10:42:25.762125Z",
     "start_time": "2022-03-15T10:42:25.733116Z"
    }
   },
   "outputs": [
    {
     "data": {
      "text/html": [
       "<div>\n",
       "<style scoped>\n",
       "    .dataframe tbody tr th:only-of-type {\n",
       "        vertical-align: middle;\n",
       "    }\n",
       "\n",
       "    .dataframe tbody tr th {\n",
       "        vertical-align: top;\n",
       "    }\n",
       "\n",
       "    .dataframe thead th {\n",
       "        text-align: right;\n",
       "    }\n",
       "</style>\n",
       "<table border=\"1\" class=\"dataframe\">\n",
       "  <thead>\n",
       "    <tr style=\"text-align: right;\">\n",
       "      <th></th>\n",
       "      <th>action</th>\n",
       "      <th>action_type</th>\n",
       "      <th>action_detail</th>\n",
       "      <th>device_type</th>\n",
       "    </tr>\n",
       "  </thead>\n",
       "  <tbody>\n",
       "    <tr>\n",
       "      <th>0</th>\n",
       "      <td>1.000161</td>\n",
       "      <td>0.947853</td>\n",
       "      <td>0.796982</td>\n",
       "      <td>0.259732</td>\n",
       "    </tr>\n",
       "    <tr>\n",
       "      <th>1</th>\n",
       "      <td>0.947853</td>\n",
       "      <td>1.000004</td>\n",
       "      <td>0.978187</td>\n",
       "      <td>0.087454</td>\n",
       "    </tr>\n",
       "    <tr>\n",
       "      <th>2</th>\n",
       "      <td>0.796982</td>\n",
       "      <td>0.978187</td>\n",
       "      <td>1.000079</td>\n",
       "      <td>0.219681</td>\n",
       "    </tr>\n",
       "    <tr>\n",
       "      <th>3</th>\n",
       "      <td>0.259732</td>\n",
       "      <td>0.087454</td>\n",
       "      <td>0.219681</td>\n",
       "      <td>1.000007</td>\n",
       "    </tr>\n",
       "  </tbody>\n",
       "</table>\n",
       "</div>"
      ],
      "text/plain": [
       "     action  action_type  action_detail  device_type\n",
       "0  1.000161     0.947853       0.796982     0.259732\n",
       "1  0.947853     1.000004       0.978187     0.087454\n",
       "2  0.796982     0.978187       1.000079     0.219681\n",
       "3  0.259732     0.087454       0.219681     1.000007"
      ]
     },
     "execution_count": 28,
     "metadata": {},
     "output_type": "execute_result"
    }
   ],
   "source": [
    "pd.DataFrame( corr_dict )"
   ]
  },
  {
   "cell_type": "code",
   "execution_count": 29,
   "id": "6a6254c2",
   "metadata": {
    "ExecuteTime": {
     "end_time": "2022-03-15T10:42:25.998717Z",
     "start_time": "2022-03-15T10:42:25.764120Z"
    }
   },
   "outputs": [
    {
     "data": {
      "image/png": "[encoded data removed]",
      "text/plain": [
       "<Figure size 432x288 with 2 Axes>"
      ]
     },
     "metadata": {
      "needs_background": "light"
     },
     "output_type": "display_data"
    }
   ],
   "source": [
    "d = pd.DataFrame( corr_dict )\n",
    "d = d.set_index( d.columns )\n",
    "sns.heatmap( d, annot = True );"
   ]
  },
  {
   "cell_type": "markdown",
   "id": "08246c8d",
   "metadata": {},
   "source": [
    "# 2.0. Feature Engeneering"
   ]
  },
  {
   "cell_type": "code",
   "execution_count": 30,
   "id": "d317ea1f",
   "metadata": {
    "ExecuteTime": {
     "end_time": "2022-03-15T10:42:26.060556Z",
     "start_time": "2022-03-15T10:42:26.002693Z"
    }
   },
   "outputs": [],
   "source": [
    "df2 = df1.copy()\n",
    "df2_sessions = df1_sessions.copy()"
   ]
  },
  {
   "cell_type": "code",
   "execution_count": 31,
   "id": "b4fa7005",
   "metadata": {
    "ExecuteTime": {
     "end_time": "2022-03-15T10:42:26.091496Z",
     "start_time": "2022-03-15T10:42:26.061549Z"
    }
   },
   "outputs": [
    {
     "data": {
      "text/html": [
       "<div>\n",
       "<style scoped>\n",
       "    .dataframe tbody tr th:only-of-type {\n",
       "        vertical-align: middle;\n",
       "    }\n",
       "\n",
       "    .dataframe tbody tr th {\n",
       "        vertical-align: top;\n",
       "    }\n",
       "\n",
       "    .dataframe thead th {\n",
       "        text-align: right;\n",
       "    }\n",
       "</style>\n",
       "<table border=\"1\" class=\"dataframe\">\n",
       "  <thead>\n",
       "    <tr style=\"text-align: right;\">\n",
       "      <th></th>\n",
       "      <th>id</th>\n",
       "      <th>date_account_created</th>\n",
       "      <th>timestamp_first_active</th>\n",
       "      <th>date_first_booking</th>\n",
       "      <th>gender</th>\n",
       "      <th>age</th>\n",
       "      <th>signup_method</th>\n",
       "      <th>signup_flow</th>\n",
       "      <th>language</th>\n",
       "      <th>affiliate_channel</th>\n",
       "      <th>affiliate_provider</th>\n",
       "      <th>first_affiliate_tracked</th>\n",
       "      <th>signup_app</th>\n",
       "      <th>first_device_type</th>\n",
       "      <th>first_browser</th>\n",
       "      <th>country_destination</th>\n",
       "    </tr>\n",
       "  </thead>\n",
       "  <tbody>\n",
       "    <tr>\n",
       "      <th>0</th>\n",
       "      <td>gxn3p5htnn</td>\n",
       "      <td>2010-06-28</td>\n",
       "      <td>2009-03-19 04:32:55</td>\n",
       "      <td>2015-06-29</td>\n",
       "      <td>-unknown-</td>\n",
       "      <td>49</td>\n",
       "      <td>facebook</td>\n",
       "      <td>0</td>\n",
       "      <td>en</td>\n",
       "      <td>direct</td>\n",
       "      <td>direct</td>\n",
       "      <td>untracked</td>\n",
       "      <td>Web</td>\n",
       "      <td>Mac Desktop</td>\n",
       "      <td>Chrome</td>\n",
       "      <td>NDF</td>\n",
       "    </tr>\n",
       "    <tr>\n",
       "      <th>1</th>\n",
       "      <td>820tgsjxq7</td>\n",
       "      <td>2011-05-25</td>\n",
       "      <td>2009-05-23 17:48:09</td>\n",
       "      <td>2015-06-29</td>\n",
       "      <td>MALE</td>\n",
       "      <td>38</td>\n",
       "      <td>facebook</td>\n",
       "      <td>0</td>\n",
       "      <td>en</td>\n",
       "      <td>seo</td>\n",
       "      <td>google</td>\n",
       "      <td>untracked</td>\n",
       "      <td>Web</td>\n",
       "      <td>Mac Desktop</td>\n",
       "      <td>Chrome</td>\n",
       "      <td>NDF</td>\n",
       "    </tr>\n",
       "    <tr>\n",
       "      <th>2</th>\n",
       "      <td>4ft3gnwmtx</td>\n",
       "      <td>2010-09-28</td>\n",
       "      <td>2009-06-09 23:12:47</td>\n",
       "      <td>2010-08-02</td>\n",
       "      <td>FEMALE</td>\n",
       "      <td>56</td>\n",
       "      <td>basic</td>\n",
       "      <td>3</td>\n",
       "      <td>en</td>\n",
       "      <td>direct</td>\n",
       "      <td>direct</td>\n",
       "      <td>untracked</td>\n",
       "      <td>Web</td>\n",
       "      <td>Windows Desktop</td>\n",
       "      <td>IE</td>\n",
       "      <td>US</td>\n",
       "    </tr>\n",
       "    <tr>\n",
       "      <th>3</th>\n",
       "      <td>bjjt8pjhuk</td>\n",
       "      <td>2011-12-05</td>\n",
       "      <td>2009-10-31 06:01:29</td>\n",
       "      <td>2012-09-08</td>\n",
       "      <td>FEMALE</td>\n",
       "      <td>42</td>\n",
       "      <td>facebook</td>\n",
       "      <td>0</td>\n",
       "      <td>en</td>\n",
       "      <td>direct</td>\n",
       "      <td>direct</td>\n",
       "      <td>untracked</td>\n",
       "      <td>Web</td>\n",
       "      <td>Mac Desktop</td>\n",
       "      <td>Firefox</td>\n",
       "      <td>other</td>\n",
       "    </tr>\n",
       "    <tr>\n",
       "      <th>4</th>\n",
       "      <td>87mebub9p4</td>\n",
       "      <td>2010-09-14</td>\n",
       "      <td>2009-12-08 06:11:05</td>\n",
       "      <td>2010-02-18</td>\n",
       "      <td>-unknown-</td>\n",
       "      <td>41</td>\n",
       "      <td>basic</td>\n",
       "      <td>0</td>\n",
       "      <td>en</td>\n",
       "      <td>direct</td>\n",
       "      <td>direct</td>\n",
       "      <td>untracked</td>\n",
       "      <td>Web</td>\n",
       "      <td>Mac Desktop</td>\n",
       "      <td>Chrome</td>\n",
       "      <td>US</td>\n",
       "    </tr>\n",
       "  </tbody>\n",
       "</table>\n",
       "</div>"
      ],
      "text/plain": [
       "           id date_account_created timestamp_first_active date_first_booking  \\\n",
       "0  gxn3p5htnn           2010-06-28    2009-03-19 04:32:55         2015-06-29   \n",
       "1  820tgsjxq7           2011-05-25    2009-05-23 17:48:09         2015-06-29   \n",
       "2  4ft3gnwmtx           2010-09-28    2009-06-09 23:12:47         2010-08-02   \n",
       "3  bjjt8pjhuk           2011-12-05    2009-10-31 06:01:29         2012-09-08   \n",
       "4  87mebub9p4           2010-09-14    2009-12-08 06:11:05         2010-02-18   \n",
       "\n",
       "      gender  age signup_method  signup_flow language affiliate_channel  \\\n",
       "0  -unknown-   49      facebook            0       en            direct   \n",
       "1       MALE   38      facebook            0       en               seo   \n",
       "2     FEMALE   56         basic            3       en            direct   \n",
       "3     FEMALE   42      facebook            0       en            direct   \n",
       "4  -unknown-   41         basic            0       en            direct   \n",
       "\n",
       "  affiliate_provider first_affiliate_tracked signup_app first_device_type  \\\n",
       "0             direct               untracked        Web       Mac Desktop   \n",
       "1             google               untracked        Web       Mac Desktop   \n",
       "2             direct               untracked        Web   Windows Desktop   \n",
       "3             direct               untracked        Web       Mac Desktop   \n",
       "4             direct               untracked        Web       Mac Desktop   \n",
       "\n",
       "  first_browser country_destination  \n",
       "0        Chrome                 NDF  \n",
       "1        Chrome                 NDF  \n",
       "2            IE                  US  \n",
       "3       Firefox               other  \n",
       "4        Chrome                  US  "
      ]
     },
     "execution_count": 31,
     "metadata": {},
     "output_type": "execute_result"
    }
   ],
   "source": [
    "df1.head()"
   ]
  },
  {
   "cell_type": "markdown",
   "id": "22c3addb",
   "metadata": {},
   "source": [
    "## 2.1. Create new feature"
   ]
  },
  {
   "cell_type": "code",
   "execution_count": 32,
   "id": "d998c9ab",
   "metadata": {
    "ExecuteTime": {
     "end_time": "2022-03-15T10:42:32.843460Z",
     "start_time": "2022-03-15T10:42:26.093487Z"
    }
   },
   "outputs": [],
   "source": [
    "# dias da ativação até o primeiro booking\n",
    "df2['first_active'] = pd.to_datetime( df2['timestamp_first_active'].dt.strftime( '%Y-%m-%d' ) )\n",
    "df2['days_from_first_active_until_booking'] = ( df2['date_first_booking'] - df2['first_active'] ).apply( lambda x: x.days )\n",
    "\n",
    "# dias da primeira ativação até a creação da conta\n",
    "df2['days_from_first_active_until_account_created'] = ( df2['date_account_created'] - df2['first_active'] ).apply( lambda x: x.days )\n",
    "\n",
    "# dias da criação da conta até o primeiro booking\n",
    "df2['days_from_account_created_until_booking'] = ( df2['date_first_booking'] - df2['date_account_created'] ).apply( lambda x: x.days )\n",
    "\n",
    "# year first active\n",
    "df2['year_first_active'] = df2['first_active'].dt.year\n",
    "# month first active\n",
    "df2['month_first_active'] = df2['first_active'].dt.month\n",
    "# day first active\n",
    "df2['day_first_active'] = df2['first_active'].dt.day\n",
    "# day of week first active\n",
    "df2['dayofweek_first_active'] = df2['first_active'].dt.dayofweek\n",
    "# week of year first active\n",
    "df2['weekofyear_first_active'] = df2['first_active'].dt.weekofyear\n",
    "\n",
    "# year first booking\n",
    "df2['year_first_booking'] = df2['first_active'].dt.year\n",
    "# month first booking\n",
    "df2['month_first_booking'] = df2['first_active'].dt.month\n",
    "# day first booking\n",
    "df2['day_first_booking'] = df2['first_active'].dt.day\n",
    "# day of week first booking\n",
    "df2['dayofweek_first_booking'] = df2['first_active'].dt.dayofweek\n",
    "# week of year first booking\n",
    "df2['weekofyear_first_booking'] = df2['first_active'].dt.weekofyear\n",
    "\n",
    "# year first account_created\n",
    "df2['year_first_account_created'] = df2['first_active'].dt.year\n",
    "# month first account_created\n",
    "df2['month_first_account_created'] = df2['first_active'].dt.month\n",
    "# day first account_created\n",
    "df2['day_first_account_created'] = df2['first_active'].dt.day\n",
    "# day of week first account_createdg\n",
    "df2['dayofweek_first_account_created'] = df2['first_active'].dt.dayofweek\n",
    "# week of year first account_created\n",
    "df2['weekofyear_first_account_created'] = df2['first_active'].dt.weekofyear"
   ]
  },
  {
   "cell_type": "markdown",
   "id": "f462ab7b",
   "metadata": {},
   "source": [
    "# 3.0. Data Filtering "
   ]
  },
  {
   "cell_type": "code",
   "execution_count": 33,
   "id": "8870f1b4",
   "metadata": {
    "ExecuteTime": {
     "end_time": "2022-03-15T10:42:32.937782Z",
     "start_time": "2022-03-15T10:42:32.845453Z"
    }
   },
   "outputs": [],
   "source": [
    "df3 = df2.copy()"
   ]
  },
  {
   "cell_type": "markdown",
   "id": "c6590b12",
   "metadata": {},
   "source": [
    "## 3.1. Filtering rows"
   ]
  },
  {
   "cell_type": "code",
   "execution_count": 34,
   "id": "103e2216",
   "metadata": {
    "ExecuteTime": {
     "end_time": "2022-03-15T10:42:33.016406Z",
     "start_time": "2022-03-15T10:42:32.939777Z"
    }
   },
   "outputs": [],
   "source": [
    "# maior do que 15 e menor do que 120 - existem poucas pessoas acima de 120 anos\n",
    "df3 = df3[( df3['age'] > 15 ) & ( df3['age'] < 120 )]"
   ]
  },
  {
   "cell_type": "markdown",
   "id": "95acd4e5",
   "metadata": {},
   "source": [
    "## 3.2. Filtering cols"
   ]
  },
  {
   "cell_type": "code",
   "execution_count": 36,
   "id": "f979de4c",
   "metadata": {
    "ExecuteTime": {
     "end_time": "2022-03-15T10:44:28.900130Z",
     "start_time": "2022-03-15T10:44:28.823676Z"
    }
   },
   "outputs": [],
   "source": [
    "cols = ['date_account_created', 'timestamp_first_active', 'date_first_booking', 'first_active'] # datetime original\n",
    "df3 = df3.drop( cols, axis = 1 )"
   ]
  },
  {
   "cell_type": "markdown",
   "id": "7fce4730",
   "metadata": {},
   "source": [
    "# 4.0. Balancemento dos Dados"
   ]
  },
  {
   "cell_type": "code",
   "execution_count": 38,
   "id": "8878cf6b",
   "metadata": {
    "ExecuteTime": {
     "end_time": "2022-03-15T10:46:06.726117Z",
     "start_time": "2022-03-15T10:46:06.683345Z"
    }
   },
   "outputs": [],
   "source": [
    "df4 = df3.copy()"
   ]
  },
  {
   "cell_type": "markdown",
   "id": "92fa2998",
   "metadata": {},
   "source": [
    "## 4.1. Random Undersampling"
   ]
  },
  {
   "cell_type": "code",
   "execution_count": 45,
   "id": "9d25a1e4",
   "metadata": {
    "ExecuteTime": {
     "end_time": "2022-03-15T11:36:18.129513Z",
     "start_time": "2022-03-15T11:36:17.199982Z"
    }
   },
   "outputs": [],
   "source": [
    "# ratio_balanced\n",
    "ratio_balanced = {'NDF': 20000, 'US': 12000}\n",
    "# define sampler\n",
    "undersampling = us.RandomUnderSampler( sampling_strategy= ratio_balanced, random_state = 32 )\n",
    "\n",
    "# apply sampler\n",
    "x_under, y_under = undersampling.fit_resample( df4, df4['country_destination'] )"
   ]
  },
  {
   "cell_type": "code",
   "execution_count": 46,
   "id": "d94f9eef",
   "metadata": {
    "ExecuteTime": {
     "end_time": "2022-03-15T11:36:18.159468Z",
     "start_time": "2022-03-15T11:36:18.131508Z"
    }
   },
   "outputs": [
    {
     "data": {
      "text/plain": [
       "NDF      119810\n",
       "US        60800\n",
       "other      9935\n",
       "FR         4881\n",
       "IT         2776\n",
       "GB         2285\n",
       "ES         2203\n",
       "CA         1385\n",
       "DE         1033\n",
       "NL          746\n",
       "AU          526\n",
       "PT          213\n",
       "Name: country_destination, dtype: int64"
      ]
     },
     "execution_count": 46,
     "metadata": {},
     "output_type": "execute_result"
    }
   ],
   "source": [
    "df4['country_destination'].value_counts()"
   ]
  },
  {
   "cell_type": "code",
   "execution_count": 47,
   "id": "8391ad8c",
   "metadata": {
    "ExecuteTime": {
     "end_time": "2022-03-15T11:36:19.515308Z",
     "start_time": "2022-03-15T11:36:19.502291Z"
    }
   },
   "outputs": [
    {
     "data": {
      "text/plain": [
       "NDF      20000\n",
       "US       12000\n",
       "other     9935\n",
       "FR        4881\n",
       "IT        2776\n",
       "GB        2285\n",
       "ES        2203\n",
       "CA        1385\n",
       "DE        1033\n",
       "NL         746\n",
       "AU         526\n",
       "PT         213\n",
       "Name: country_destination, dtype: int64"
      ]
     },
     "execution_count": 47,
     "metadata": {},
     "output_type": "execute_result"
    }
   ],
   "source": [
    "y_under.value_counts()"
   ]
  },
  {
   "cell_type": "markdown",
   "id": "27022c42",
   "metadata": {},
   "source": [
    "## 4.2. Random Oversampling"
   ]
  },
  {
   "cell_type": "code",
   "execution_count": 51,
   "id": "20f81399",
   "metadata": {
    "ExecuteTime": {
     "end_time": "2022-03-15T11:41:39.186582Z",
     "start_time": "2022-03-15T11:41:38.084956Z"
    }
   },
   "outputs": [],
   "source": [
    "# ratio_balanced\n",
    "# ratio_balanced = {'NDF': 20000, 'US': 12000}\n",
    "# define sampler\n",
    "oversampling = oversemp.RandomOverSampler( sampling_strategy= 'minority', random_state = 32 )\n",
    "\n",
    "# apply sampler\n",
    "x_over, y_over = oversampling.fit_resample( df4, df4['country_destination'] )"
   ]
  },
  {
   "cell_type": "code",
   "execution_count": 52,
   "id": "38da5b4f",
   "metadata": {
    "ExecuteTime": {
     "end_time": "2022-03-15T11:41:55.936882Z",
     "start_time": "2022-03-15T11:41:55.919886Z"
    }
   },
   "outputs": [
    {
     "data": {
      "text/plain": [
       "NDF      119810\n",
       "US        60800\n",
       "other      9935\n",
       "FR         4881\n",
       "IT         2776\n",
       "GB         2285\n",
       "ES         2203\n",
       "CA         1385\n",
       "DE         1033\n",
       "NL          746\n",
       "AU          526\n",
       "PT          213\n",
       "Name: country_destination, dtype: int64"
      ]
     },
     "execution_count": 52,
     "metadata": {},
     "output_type": "execute_result"
    }
   ],
   "source": [
    "df4['country_destination'].value_counts()"
   ]
  },
  {
   "cell_type": "code",
   "execution_count": 53,
   "id": "7144b3d4",
   "metadata": {
    "ExecuteTime": {
     "end_time": "2022-03-15T11:42:12.341404Z",
     "start_time": "2022-03-15T11:42:12.312450Z"
    }
   },
   "outputs": [
    {
     "data": {
      "text/plain": [
       "NDF      119810\n",
       "PT       119810\n",
       "US        60800\n",
       "other      9935\n",
       "FR         4881\n",
       "IT         2776\n",
       "GB         2285\n",
       "ES         2203\n",
       "CA         1385\n",
       "DE         1033\n",
       "NL          746\n",
       "AU          526\n",
       "Name: country_destination, dtype: int64"
      ]
     },
     "execution_count": 53,
     "metadata": {},
     "output_type": "execute_result"
    }
   ],
   "source": [
    "y_over.value_counts()"
   ]
  },
  {
   "cell_type": "markdown",
   "id": "9f070480",
   "metadata": {},
   "source": [
    "## 4.3. SMOTE + TOMEKLINK"
   ]
  },
  {
   "cell_type": "code",
   "execution_count": null,
   "id": "3afee398",
   "metadata": {},
   "outputs": [],
   "source": []
  },
  {
   "cell_type": "markdown",
   "id": "05a95df7",
   "metadata": {},
   "source": [
    "# 5.0. Data preparation"
   ]
  },
  {
   "cell_type": "code",
   "execution_count": 31,
   "id": "44905e36",
   "metadata": {
    "ExecuteTime": {
     "end_time": "2022-03-14T10:44:32.363737Z",
     "start_time": "2022-03-14T10:44:32.334732Z"
    }
   },
   "outputs": [],
   "source": [
    "df4 = df3.copy()"
   ]
  },
  {
   "cell_type": "code",
   "execution_count": 32,
   "id": "86e8a792",
   "metadata": {
    "ExecuteTime": {
     "end_time": "2022-03-14T10:44:32.695153Z",
     "start_time": "2022-03-14T10:44:32.364731Z"
    }
   },
   "outputs": [],
   "source": [
    "# dummy variable\n",
    "df3_dummy = pd.get_dummies( df3.drop( ['id', 'country_destination'], axis = 1 ) )\n",
    "\n",
    "# join id and country destination\n",
    "df3 = pd.concat( [df3[['id', 'country_destination']], df3_dummy], axis = 1 )"
   ]
  },
  {
   "cell_type": "code",
   "execution_count": 33,
   "id": "44cc18fc",
   "metadata": {
    "ExecuteTime": {
     "end_time": "2022-03-14T10:44:32.711217Z",
     "start_time": "2022-03-14T10:44:32.696150Z"
    }
   },
   "outputs": [
    {
     "data": {
      "text/plain": [
       "(206593, 156)"
      ]
     },
     "execution_count": 33,
     "metadata": {},
     "output_type": "execute_result"
    }
   ],
   "source": [
    "df3.shape"
   ]
  },
  {
   "cell_type": "markdown",
   "id": "8b5da492",
   "metadata": {},
   "source": [
    "# 6.0. Feature Selection"
   ]
  },
  {
   "cell_type": "code",
   "execution_count": 39,
   "id": "9c4ec279",
   "metadata": {
    "ExecuteTime": {
     "end_time": "2022-03-14T10:50:35.903031Z",
     "start_time": "2022-03-14T10:50:35.879002Z"
    }
   },
   "outputs": [
    {
     "data": {
      "text/html": [
       "<div>\n",
       "<style scoped>\n",
       "    .dataframe tbody tr th:only-of-type {\n",
       "        vertical-align: middle;\n",
       "    }\n",
       "\n",
       "    .dataframe tbody tr th {\n",
       "        vertical-align: top;\n",
       "    }\n",
       "\n",
       "    .dataframe thead th {\n",
       "        text-align: right;\n",
       "    }\n",
       "</style>\n",
       "<table border=\"1\" class=\"dataframe\">\n",
       "  <thead>\n",
       "    <tr style=\"text-align: right;\">\n",
       "      <th></th>\n",
       "      <th>id</th>\n",
       "      <th>date_account_created</th>\n",
       "      <th>timestamp_first_active</th>\n",
       "      <th>date_first_booking</th>\n",
       "      <th>gender</th>\n",
       "      <th>age</th>\n",
       "      <th>signup_method</th>\n",
       "      <th>signup_flow</th>\n",
       "      <th>language</th>\n",
       "      <th>affiliate_channel</th>\n",
       "      <th>...</th>\n",
       "      <th>year_first_booking</th>\n",
       "      <th>month_first_booking</th>\n",
       "      <th>day_first_booking</th>\n",
       "      <th>dayofweek_first_booking</th>\n",
       "      <th>weekofyear_first_booking</th>\n",
       "      <th>year_first_account_created</th>\n",
       "      <th>month_first_account_created</th>\n",
       "      <th>day_first_account_created</th>\n",
       "      <th>dayofweek_first_account_created</th>\n",
       "      <th>weekofyear_first_account_created</th>\n",
       "    </tr>\n",
       "  </thead>\n",
       "  <tbody>\n",
       "    <tr>\n",
       "      <th>0</th>\n",
       "      <td>gxn3p5htnn</td>\n",
       "      <td>2010-06-28</td>\n",
       "      <td>2009-03-19 04:32:55</td>\n",
       "      <td>2015-06-29</td>\n",
       "      <td>-unknown-</td>\n",
       "      <td>49</td>\n",
       "      <td>facebook</td>\n",
       "      <td>0</td>\n",
       "      <td>en</td>\n",
       "      <td>direct</td>\n",
       "      <td>...</td>\n",
       "      <td>2009</td>\n",
       "      <td>3</td>\n",
       "      <td>19</td>\n",
       "      <td>3</td>\n",
       "      <td>12</td>\n",
       "      <td>2009</td>\n",
       "      <td>3</td>\n",
       "      <td>19</td>\n",
       "      <td>3</td>\n",
       "      <td>12</td>\n",
       "    </tr>\n",
       "    <tr>\n",
       "      <th>1</th>\n",
       "      <td>820tgsjxq7</td>\n",
       "      <td>2011-05-25</td>\n",
       "      <td>2009-05-23 17:48:09</td>\n",
       "      <td>2015-06-29</td>\n",
       "      <td>MALE</td>\n",
       "      <td>38</td>\n",
       "      <td>facebook</td>\n",
       "      <td>0</td>\n",
       "      <td>en</td>\n",
       "      <td>seo</td>\n",
       "      <td>...</td>\n",
       "      <td>2009</td>\n",
       "      <td>5</td>\n",
       "      <td>23</td>\n",
       "      <td>5</td>\n",
       "      <td>21</td>\n",
       "      <td>2009</td>\n",
       "      <td>5</td>\n",
       "      <td>23</td>\n",
       "      <td>5</td>\n",
       "      <td>21</td>\n",
       "    </tr>\n",
       "    <tr>\n",
       "      <th>2</th>\n",
       "      <td>4ft3gnwmtx</td>\n",
       "      <td>2010-09-28</td>\n",
       "      <td>2009-06-09 23:12:47</td>\n",
       "      <td>2010-08-02</td>\n",
       "      <td>FEMALE</td>\n",
       "      <td>56</td>\n",
       "      <td>basic</td>\n",
       "      <td>3</td>\n",
       "      <td>en</td>\n",
       "      <td>direct</td>\n",
       "      <td>...</td>\n",
       "      <td>2009</td>\n",
       "      <td>6</td>\n",
       "      <td>9</td>\n",
       "      <td>1</td>\n",
       "      <td>24</td>\n",
       "      <td>2009</td>\n",
       "      <td>6</td>\n",
       "      <td>9</td>\n",
       "      <td>1</td>\n",
       "      <td>24</td>\n",
       "    </tr>\n",
       "    <tr>\n",
       "      <th>3</th>\n",
       "      <td>bjjt8pjhuk</td>\n",
       "      <td>2011-12-05</td>\n",
       "      <td>2009-10-31 06:01:29</td>\n",
       "      <td>2012-09-08</td>\n",
       "      <td>FEMALE</td>\n",
       "      <td>42</td>\n",
       "      <td>facebook</td>\n",
       "      <td>0</td>\n",
       "      <td>en</td>\n",
       "      <td>direct</td>\n",
       "      <td>...</td>\n",
       "      <td>2009</td>\n",
       "      <td>10</td>\n",
       "      <td>31</td>\n",
       "      <td>5</td>\n",
       "      <td>44</td>\n",
       "      <td>2009</td>\n",
       "      <td>10</td>\n",
       "      <td>31</td>\n",
       "      <td>5</td>\n",
       "      <td>44</td>\n",
       "    </tr>\n",
       "    <tr>\n",
       "      <th>4</th>\n",
       "      <td>87mebub9p4</td>\n",
       "      <td>2010-09-14</td>\n",
       "      <td>2009-12-08 06:11:05</td>\n",
       "      <td>2010-02-18</td>\n",
       "      <td>-unknown-</td>\n",
       "      <td>41</td>\n",
       "      <td>basic</td>\n",
       "      <td>0</td>\n",
       "      <td>en</td>\n",
       "      <td>direct</td>\n",
       "      <td>...</td>\n",
       "      <td>2009</td>\n",
       "      <td>12</td>\n",
       "      <td>8</td>\n",
       "      <td>1</td>\n",
       "      <td>50</td>\n",
       "      <td>2009</td>\n",
       "      <td>12</td>\n",
       "      <td>8</td>\n",
       "      <td>1</td>\n",
       "      <td>50</td>\n",
       "    </tr>\n",
       "  </tbody>\n",
       "</table>\n",
       "<p>5 rows × 35 columns</p>\n",
       "</div>"
      ],
      "text/plain": [
       "           id date_account_created timestamp_first_active date_first_booking  \\\n",
       "0  gxn3p5htnn           2010-06-28    2009-03-19 04:32:55         2015-06-29   \n",
       "1  820tgsjxq7           2011-05-25    2009-05-23 17:48:09         2015-06-29   \n",
       "2  4ft3gnwmtx           2010-09-28    2009-06-09 23:12:47         2010-08-02   \n",
       "3  bjjt8pjhuk           2011-12-05    2009-10-31 06:01:29         2012-09-08   \n",
       "4  87mebub9p4           2010-09-14    2009-12-08 06:11:05         2010-02-18   \n",
       "\n",
       "      gender  age signup_method  signup_flow language affiliate_channel  ...  \\\n",
       "0  -unknown-   49      facebook            0       en            direct  ...   \n",
       "1       MALE   38      facebook            0       en               seo  ...   \n",
       "2     FEMALE   56         basic            3       en            direct  ...   \n",
       "3     FEMALE   42      facebook            0       en            direct  ...   \n",
       "4  -unknown-   41         basic            0       en            direct  ...   \n",
       "\n",
       "  year_first_booking month_first_booking day_first_booking  \\\n",
       "0               2009                   3                19   \n",
       "1               2009                   5                23   \n",
       "2               2009                   6                 9   \n",
       "3               2009                  10                31   \n",
       "4               2009                  12                 8   \n",
       "\n",
       "  dayofweek_first_booking weekofyear_first_booking year_first_account_created  \\\n",
       "0                       3                       12                       2009   \n",
       "1                       5                       21                       2009   \n",
       "2                       1                       24                       2009   \n",
       "3                       5                       44                       2009   \n",
       "4                       1                       50                       2009   \n",
       "\n",
       "  month_first_account_created  day_first_account_created  \\\n",
       "0                           3                         19   \n",
       "1                           5                         23   \n",
       "2                           6                          9   \n",
       "3                          10                         31   \n",
       "4                          12                          8   \n",
       "\n",
       "   dayofweek_first_account_created  weekofyear_first_account_created  \n",
       "0                                3                                12  \n",
       "1                                5                                21  \n",
       "2                                1                                24  \n",
       "3                                5                                44  \n",
       "4                                1                                50  \n",
       "\n",
       "[5 rows x 35 columns]"
      ]
     },
     "execution_count": 39,
     "metadata": {},
     "output_type": "execute_result"
    }
   ],
   "source": [
    "df4.head()"
   ]
  },
  {
   "cell_type": "code",
   "execution_count": null,
   "id": "ca7ba511",
   "metadata": {},
   "outputs": [],
   "source": []
  },
  {
   "cell_type": "code",
   "execution_count": null,
   "id": "4ecf461b",
   "metadata": {},
   "outputs": [],
   "source": []
  }
 ],
 "metadata": {
  "kernelspec": {
   "display_name": "Python 3 (ipykernel)",
   "language": "python",
   "name": "python3"
  },
  "language_info": {
   "codemirror_mode": {
    "name": "ipython",
    "version": 3
   },
   "file_extension": ".py",
   "mimetype": "text/x-python",
   "name": "python",
   "nbconvert_exporter": "python",
   "pygments_lexer": "ipython3",
   "version": "3.8.12"
  }
 },
 "nbformat": 4,
 "nbformat_minor": 5
}
