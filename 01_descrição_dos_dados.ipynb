{
 "cells": [
  {
   "cell_type": "markdown",
   "id": "def2dd16",
   "metadata": {},
   "source": [
    "# 0.0. Intruducao"
   ]
  },
  {
   "cell_type": "markdown",
   "id": "1fafd991",
   "metadata": {},
   "source": [
    "## 0.1. Biblíotecas"
   ]
  },
  {
   "cell_type": "code",
   "execution_count": 15,
   "id": "9ad7705a",
   "metadata": {
    "ExecuteTime": {
     "end_time": "2022-02-08T00:01:45.159041Z",
     "start_time": "2022-02-08T00:01:23.233077Z"
    }
   },
   "outputs": [],
   "source": [
    "import pandas as pd\n",
    "import numpy  as np\n",
    "import seaborn as sns\n",
    "import matplotlib.pyplot as plt\n",
    "\n",
    "import warnings\n",
    "\n",
    "warnings.filterwarnings('ignore')"
   ]
  },
  {
   "cell_type": "markdown",
   "id": "4e518e4b",
   "metadata": {},
   "source": [
    "## 0.2. Loading dos Dados"
   ]
  },
  {
   "cell_type": "code",
   "execution_count": 2,
   "id": "2831cace",
   "metadata": {
    "ExecuteTime": {
     "end_time": "2022-02-07T23:11:42.096425Z",
     "start_time": "2022-02-07T23:11:35.466977Z"
    }
   },
   "outputs": [],
   "source": [
    "df = pd.read_csv( 'train_users_2.csv', low_memory = True )\n",
    "df_sessions = pd.read_csv( 'sessions.csv', low_memory= True )"
   ]
  },
  {
   "cell_type": "markdown",
   "id": "63388e17",
   "metadata": {
    "heading_collapsed": true
   },
   "source": [
    "## 0.3. Funcoes Auxiliares"
   ]
  },
  {
   "cell_type": "code",
   "execution_count": null,
   "id": "9ff16167",
   "metadata": {
    "hidden": true
   },
   "outputs": [],
   "source": []
  },
  {
   "cell_type": "markdown",
   "id": "9f2d5a97",
   "metadata": {},
   "source": [
    "# 1.0. Descricao dos Dados"
   ]
  },
  {
   "cell_type": "code",
   "execution_count": 28,
   "id": "6840bcfd",
   "metadata": {
    "ExecuteTime": {
     "end_time": "2022-02-08T00:41:53.773887Z",
     "start_time": "2022-02-08T00:41:53.749602Z"
    }
   },
   "outputs": [],
   "source": [
    "df1 = df.copy()\n",
    "df1_sessions = df_sessions"
   ]
  },
  {
   "cell_type": "markdown",
   "id": "527ed7ed",
   "metadata": {},
   "source": [
    "## 1.1. Dimensionalidade"
   ]
  },
  {
   "cell_type": "code",
   "execution_count": 29,
   "id": "dd911ccd",
   "metadata": {
    "ExecuteTime": {
     "end_time": "2022-02-08T00:41:54.508764Z",
     "start_time": "2022-02-08T00:41:54.496726Z"
    }
   },
   "outputs": [
    {
     "name": "stdout",
     "output_type": "stream",
     "text": [
      "Número de linhas: 213451\n",
      "Número de colunas: 16\n"
     ]
    }
   ],
   "source": [
    "print( 'Número de linhas: {}'.format( df1.shape[0] ) )\n",
    "print( 'Número de colunas: {}'.format( df1.shape[1] ) )"
   ]
  },
  {
   "cell_type": "code",
   "execution_count": 30,
   "id": "03fa997d",
   "metadata": {
    "ExecuteTime": {
     "end_time": "2022-02-08T00:41:54.984904Z",
     "start_time": "2022-02-08T00:41:54.978904Z"
    }
   },
   "outputs": [
    {
     "name": "stdout",
     "output_type": "stream",
     "text": [
      "Número de linhas: 10567737\n",
      "Número de colunas: 6\n"
     ]
    }
   ],
   "source": [
    "print( 'Número de linhas: {}'.format( df1_sessions.shape[0] ) )\n",
    "print( 'Número de colunas: {}'.format( df1_sessions.shape[1] ) )"
   ]
  },
  {
   "cell_type": "markdown",
   "id": "e14be3bd",
   "metadata": {},
   "source": [
    "## 1.2. Data type"
   ]
  },
  {
   "cell_type": "code",
   "execution_count": 31,
   "id": "6220be35",
   "metadata": {
    "ExecuteTime": {
     "end_time": "2022-02-08T00:41:55.889132Z",
     "start_time": "2022-02-08T00:41:55.881128Z"
    }
   },
   "outputs": [
    {
     "data": {
      "text/plain": [
       "id                          object\n",
       "date_account_created        object\n",
       "timestamp_first_active       int64\n",
       "date_first_booking          object\n",
       "gender                      object\n",
       "age                        float64\n",
       "signup_method               object\n",
       "signup_flow                  int64\n",
       "language                    object\n",
       "affiliate_channel           object\n",
       "affiliate_provider          object\n",
       "first_affiliate_tracked     object\n",
       "signup_app                  object\n",
       "first_device_type           object\n",
       "first_browser               object\n",
       "country_destination         object\n",
       "dtype: object"
      ]
     },
     "execution_count": 31,
     "metadata": {},
     "output_type": "execute_result"
    }
   ],
   "source": [
    "df1.dtypes"
   ]
  },
  {
   "cell_type": "code",
   "execution_count": 32,
   "id": "81f5cda4",
   "metadata": {
    "ExecuteTime": {
     "end_time": "2022-02-08T00:41:56.432483Z",
     "start_time": "2022-02-08T00:41:56.419062Z"
    }
   },
   "outputs": [
    {
     "data": {
      "text/plain": [
       "user_id           object\n",
       "action            object\n",
       "action_type       object\n",
       "action_detail     object\n",
       "device_type       object\n",
       "secs_elapsed     float64\n",
       "dtype: object"
      ]
     },
     "execution_count": 32,
     "metadata": {},
     "output_type": "execute_result"
    }
   ],
   "source": [
    "df1_sessions.dtypes"
   ]
  },
  {
   "cell_type": "code",
   "execution_count": 33,
   "id": "88d0587a",
   "metadata": {
    "ExecuteTime": {
     "end_time": "2022-02-08T00:41:57.044719Z",
     "start_time": "2022-02-08T00:41:57.006618Z"
    }
   },
   "outputs": [
    {
     "data": {
      "text/plain": [
       "NDF      0.768428\n",
       "US       0.156529\n",
       "other    0.028617\n",
       "FR       0.014888\n",
       "IT       0.009081\n",
       "GB       0.006251\n",
       "ES       0.006171\n",
       "CA       0.003989\n",
       "DE       0.002387\n",
       "NL       0.001818\n",
       "AU       0.001171\n",
       "PT       0.000671\n",
       "Name: country_destination, dtype: float64"
      ]
     },
     "execution_count": 33,
     "metadata": {},
     "output_type": "execute_result"
    }
   ],
   "source": [
    "aux = df1[df1['age'].isna()]\n",
    "aux['country_destination'].value_counts( normalize=True )"
   ]
  },
  {
   "cell_type": "code",
   "execution_count": null,
   "id": "335b1602",
   "metadata": {},
   "outputs": [],
   "source": []
  },
  {
   "cell_type": "markdown",
   "id": "5e5759ed",
   "metadata": {},
   "source": [
    "## 1.2. Check Na"
   ]
  },
  {
   "cell_type": "markdown",
   "id": "ef6f5edb",
   "metadata": {},
   "source": [
    "### 1.2.1. Check df1"
   ]
  },
  {
   "cell_type": "code",
   "execution_count": 34,
   "id": "b19baca8",
   "metadata": {
    "ExecuteTime": {
     "end_time": "2022-02-08T00:41:58.883050Z",
     "start_time": "2022-02-08T00:41:58.781552Z"
    }
   },
   "outputs": [
    {
     "data": {
      "text/plain": [
       "id                         0.000000\n",
       "date_account_created       0.000000\n",
       "timestamp_first_active     0.000000\n",
       "date_first_booking         0.583473\n",
       "gender                     0.000000\n",
       "age                        0.412226\n",
       "signup_method              0.000000\n",
       "signup_flow                0.000000\n",
       "language                   0.000000\n",
       "affiliate_channel          0.000000\n",
       "affiliate_provider         0.000000\n",
       "first_affiliate_tracked    0.028414\n",
       "signup_app                 0.000000\n",
       "first_device_type          0.000000\n",
       "first_browser              0.000000\n",
       "country_destination        0.000000\n",
       "dtype: float64"
      ]
     },
     "execution_count": 34,
     "metadata": {},
     "output_type": "execute_result"
    }
   ],
   "source": [
    "#porcentagem dos dados faltantes por feature\n",
    "df1.isna().sum() / len( df1 )"
   ]
  },
  {
   "cell_type": "code",
   "execution_count": 35,
   "id": "946cc5e0",
   "metadata": {
    "ExecuteTime": {
     "end_time": "2022-02-08T00:41:59.582124Z",
     "start_time": "2022-02-08T00:41:59.470072Z"
    }
   },
   "outputs": [
    {
     "data": {
      "text/plain": [
       "(207386, 16)"
      ]
     },
     "execution_count": 35,
     "metadata": {},
     "output_type": "execute_result"
    }
   ],
   "source": [
    "# remover missing values\n",
    "#df1 = df1.dropna()\n",
    "\n",
    "#date_first_booking\n",
    "date_first_booking_max = pd.to_datetime( df1['date_first_booking'] ).max().strftime( '%Y-%m-%d' )\n",
    "df1['date_first_booking'] = df1['date_first_booking'].fillna( date_first_booking_max )\n",
    "\n",
    "#age\n",
    "avg_age = df1['age'].mean().astype( int )\n",
    "df1['age'] = df1['age'].fillna( avg_age )\n",
    "\n",
    "#first_affiliate_tracked\n",
    "df1 = df1[~df1['first_affiliate_tracked'].isna()]\n",
    "\n",
    "df1.shape"
   ]
  },
  {
   "cell_type": "markdown",
   "id": "0f5c4d68",
   "metadata": {},
   "source": [
    "### 1.2.2. Check df1_sessions"
   ]
  },
  {
   "cell_type": "code",
   "execution_count": 36,
   "id": "24327701",
   "metadata": {
    "ExecuteTime": {
     "end_time": "2022-02-08T00:43:59.765389Z",
     "start_time": "2022-02-08T00:43:57.619818Z"
    }
   },
   "outputs": [
    {
     "data": {
      "text/plain": [
       "user_id          0.003264\n",
       "action           0.007535\n",
       "action_type      0.106570\n",
       "action_detail    0.106570\n",
       "device_type      0.000000\n",
       "secs_elapsed     0.012872\n",
       "dtype: float64"
      ]
     },
     "execution_count": 36,
     "metadata": {},
     "output_type": "execute_result"
    }
   ],
   "source": [
    "#porcentagem dos dados faltantes por feature\n",
    "df1_sessions.isna().sum() / len( df1_sessions )"
   ]
  },
  {
   "cell_type": "code",
   "execution_count": 37,
   "id": "bf6c3521",
   "metadata": {
    "ExecuteTime": {
     "end_time": "2022-02-08T01:25:05.206587Z",
     "start_time": "2022-02-08T01:25:00.595160Z"
    }
   },
   "outputs": [],
   "source": [
    "# drop na\n",
    "\n",
    "#user_id - 0.3%\n",
    "df1_sessions = df1_sessions[~df1_sessions['user_id'].isna()]\n",
    "\n",
    "#action - 0.7%\n",
    "df1_sessions = df1_sessions[~df1_sessions['action'].isna()]\n",
    "\n",
    "#action_type - 10.6%\n",
    "df1_sessions = df1_sessions[~df1_sessions['action_type'].isna()]\n",
    "\n",
    "#action_detail - 10.6%\n",
    "df1_sessions = df1_sessions[~df1_sessions['action_detail'].isna()]\n",
    "\n",
    "#secs_elepsed - 1.2%\n",
    "df1_sessions = df1_sessions[~df1_sessions['secs_elapsed'].isna()]"
   ]
  },
  {
   "cell_type": "markdown",
   "id": "e81d9d63",
   "metadata": {
    "ExecuteTime": {
     "end_time": "2022-01-18T00:30:57.640310Z",
     "start_time": "2022-01-18T00:30:57.552647Z"
    }
   },
   "source": [
    "## 1.3. Change Types"
   ]
  },
  {
   "cell_type": "code",
   "execution_count": 7,
   "id": "e3965c22",
   "metadata": {
    "ExecuteTime": {
     "end_time": "2022-02-04T23:24:53.123761Z",
     "start_time": "2022-02-04T23:24:52.386800Z"
    }
   },
   "outputs": [],
   "source": [
    "#date_account_created\n",
    "df1['date_account_created'] = pd.to_datetime( df['date_account_created'] )\n",
    "\n",
    "#timestamp_first_active\n",
    "df1['timestamp_first_active'] = pd.to_datetime( df['timestamp_first_active'], format = \"%Y%m%d%H%M%S\" )\n",
    "\n",
    "#date_first_booking\n",
    "df1['date_first_booking'] = pd.to_datetime( df['date_first_booking'] )\n",
    "\n",
    "#age\n",
    "df1['age'] = df1['age'].astype( int )"
   ]
  },
  {
   "cell_type": "code",
   "execution_count": 38,
   "id": "874bc20f",
   "metadata": {
    "ExecuteTime": {
     "end_time": "2022-02-08T01:31:00.729448Z",
     "start_time": "2022-02-08T01:31:00.695242Z"
    }
   },
   "outputs": [
    {
     "data": {
      "text/html": [
       "<div>\n",
       "<style scoped>\n",
       "    .dataframe tbody tr th:only-of-type {\n",
       "        vertical-align: middle;\n",
       "    }\n",
       "\n",
       "    .dataframe tbody tr th {\n",
       "        vertical-align: top;\n",
       "    }\n",
       "\n",
       "    .dataframe thead th {\n",
       "        text-align: right;\n",
       "    }\n",
       "</style>\n",
       "<table border=\"1\" class=\"dataframe\">\n",
       "  <thead>\n",
       "    <tr style=\"text-align: right;\">\n",
       "      <th></th>\n",
       "      <th>99211</th>\n",
       "    </tr>\n",
       "  </thead>\n",
       "  <tbody>\n",
       "    <tr>\n",
       "      <th>id</th>\n",
       "      <td>78xvqndnf8</td>\n",
       "    </tr>\n",
       "    <tr>\n",
       "      <th>date_account_created</th>\n",
       "      <td>2013-08-14</td>\n",
       "    </tr>\n",
       "    <tr>\n",
       "      <th>timestamp_first_active</th>\n",
       "      <td>20130814051212</td>\n",
       "    </tr>\n",
       "    <tr>\n",
       "      <th>date_first_booking</th>\n",
       "      <td>2013-08-14</td>\n",
       "    </tr>\n",
       "    <tr>\n",
       "      <th>gender</th>\n",
       "      <td>-unknown-</td>\n",
       "    </tr>\n",
       "    <tr>\n",
       "      <th>age</th>\n",
       "      <td>49.0</td>\n",
       "    </tr>\n",
       "    <tr>\n",
       "      <th>signup_method</th>\n",
       "      <td>basic</td>\n",
       "    </tr>\n",
       "    <tr>\n",
       "      <th>signup_flow</th>\n",
       "      <td>0</td>\n",
       "    </tr>\n",
       "    <tr>\n",
       "      <th>language</th>\n",
       "      <td>en</td>\n",
       "    </tr>\n",
       "    <tr>\n",
       "      <th>affiliate_channel</th>\n",
       "      <td>direct</td>\n",
       "    </tr>\n",
       "    <tr>\n",
       "      <th>affiliate_provider</th>\n",
       "      <td>direct</td>\n",
       "    </tr>\n",
       "    <tr>\n",
       "      <th>first_affiliate_tracked</th>\n",
       "      <td>untracked</td>\n",
       "    </tr>\n",
       "    <tr>\n",
       "      <th>signup_app</th>\n",
       "      <td>Web</td>\n",
       "    </tr>\n",
       "    <tr>\n",
       "      <th>first_device_type</th>\n",
       "      <td>iPad</td>\n",
       "    </tr>\n",
       "    <tr>\n",
       "      <th>first_browser</th>\n",
       "      <td>Mobile Safari</td>\n",
       "    </tr>\n",
       "    <tr>\n",
       "      <th>country_destination</th>\n",
       "      <td>US</td>\n",
       "    </tr>\n",
       "  </tbody>\n",
       "</table>\n",
       "</div>"
      ],
      "text/plain": [
       "                                  99211\n",
       "id                           78xvqndnf8\n",
       "date_account_created         2013-08-14\n",
       "timestamp_first_active   20130814051212\n",
       "date_first_booking           2013-08-14\n",
       "gender                        -unknown-\n",
       "age                                49.0\n",
       "signup_method                     basic\n",
       "signup_flow                           0\n",
       "language                             en\n",
       "affiliate_channel                direct\n",
       "affiliate_provider               direct\n",
       "first_affiliate_tracked       untracked\n",
       "signup_app                          Web\n",
       "first_device_type                  iPad\n",
       "first_browser             Mobile Safari\n",
       "country_destination                  US"
      ]
     },
     "execution_count": 38,
     "metadata": {},
     "output_type": "execute_result"
    }
   ],
   "source": [
    "df1.sample().T"
   ]
  },
  {
   "cell_type": "markdown",
   "id": "e460c940",
   "metadata": {},
   "source": [
    "## 1.4. Check Balancemento dos Dados"
   ]
  },
  {
   "cell_type": "code",
   "execution_count": 9,
   "id": "bae0d561",
   "metadata": {
    "ExecuteTime": {
     "end_time": "2022-02-04T23:24:53.181084Z",
     "start_time": "2022-02-04T23:24:53.141044Z"
    }
   },
   "outputs": [
    {
     "data": {
      "text/plain": [
       "US       0.708864\n",
       "other    0.110854\n",
       "FR       0.054085\n",
       "IT       0.029763\n",
       "GB       0.025935\n",
       "ES       0.024864\n",
       "CA       0.015696\n",
       "DE       0.012454\n",
       "NL       0.008801\n",
       "AU       0.006366\n",
       "PT       0.002318\n",
       "Name: country_destination, dtype: float64"
      ]
     },
     "execution_count": 9,
     "metadata": {},
     "output_type": "execute_result"
    }
   ],
   "source": [
    "df1['country_destination'].value_counts( normalize=True )"
   ]
  },
  {
   "cell_type": "markdown",
   "id": "91ae983c",
   "metadata": {},
   "source": [
    "## 1.5. Estatistica Descritiva"
   ]
  },
  {
   "cell_type": "code",
   "execution_count": 10,
   "id": "b2724d01",
   "metadata": {
    "ExecuteTime": {
     "end_time": "2022-02-04T23:24:53.213081Z",
     "start_time": "2022-02-04T23:24:53.181084Z"
    }
   },
   "outputs": [],
   "source": [
    "atributos_num = df1.select_dtypes( include = [int, 'float64'] )\n",
    "atributos_cat = df1.select_dtypes( exclude = [int, 'float64'] )\n",
    "atributos_time = df1.select_dtypes( include = ['datetime64[ns]'] )"
   ]
  },
  {
   "cell_type": "markdown",
   "id": "51143533",
   "metadata": {
    "ExecuteTime": {
     "end_time": "2022-01-26T00:10:03.436218Z",
     "start_time": "2022-01-26T00:10:03.421031Z"
    }
   },
   "source": [
    "### 1.5.1. Atributos Numericos"
   ]
  },
  {
   "cell_type": "code",
   "execution_count": 12,
   "id": "1aad69f4",
   "metadata": {
    "ExecuteTime": {
     "end_time": "2022-02-04T23:55:01.024270Z",
     "start_time": "2022-02-04T23:55:00.945164Z"
    }
   },
   "outputs": [
    {
     "data": {
      "text/html": [
       "<div>\n",
       "<style scoped>\n",
       "    .dataframe tbody tr th:only-of-type {\n",
       "        vertical-align: middle;\n",
       "    }\n",
       "\n",
       "    .dataframe tbody tr th {\n",
       "        vertical-align: top;\n",
       "    }\n",
       "\n",
       "    .dataframe thead th {\n",
       "        text-align: right;\n",
       "    }\n",
       "</style>\n",
       "<table border=\"1\" class=\"dataframe\">\n",
       "  <thead>\n",
       "    <tr style=\"text-align: right;\">\n",
       "      <th></th>\n",
       "      <th>atributos</th>\n",
       "      <th>min</th>\n",
       "      <th>max</th>\n",
       "      <th>range</th>\n",
       "      <th>media</th>\n",
       "      <th>mediana</th>\n",
       "      <th>std</th>\n",
       "      <th>skew</th>\n",
       "      <th>kurtosis</th>\n",
       "    </tr>\n",
       "  </thead>\n",
       "  <tbody>\n",
       "    <tr>\n",
       "      <th>0</th>\n",
       "      <td>age</td>\n",
       "      <td>2.0</td>\n",
       "      <td>2014.0</td>\n",
       "      <td>146.035312</td>\n",
       "      <td>47.857593</td>\n",
       "      <td>33.0</td>\n",
       "      <td>2012.0</td>\n",
       "      <td>13.250136</td>\n",
       "      <td>175.132153</td>\n",
       "    </tr>\n",
       "    <tr>\n",
       "      <th>1</th>\n",
       "      <td>signup_flow</td>\n",
       "      <td>0.0</td>\n",
       "      <td>25.0</td>\n",
       "      <td>6.533959</td>\n",
       "      <td>2.436857</td>\n",
       "      <td>0.0</td>\n",
       "      <td>25.0</td>\n",
       "      <td>2.807117</td>\n",
       "      <td>6.439075</td>\n",
       "    </tr>\n",
       "  </tbody>\n",
       "</table>\n",
       "</div>"
      ],
      "text/plain": [
       "     atributos  min     max       range      media  mediana     std  \\\n",
       "0          age  2.0  2014.0  146.035312  47.857593     33.0  2012.0   \n",
       "1  signup_flow  0.0    25.0    6.533959   2.436857      0.0    25.0   \n",
       "\n",
       "        skew    kurtosis  \n",
       "0  13.250136  175.132153  \n",
       "1   2.807117    6.439075  "
      ]
     },
     "execution_count": 12,
     "metadata": {},
     "output_type": "execute_result"
    }
   ],
   "source": [
    "# Tendencia Central - mean, median\n",
    "tc1 = pd.DataFrame( atributos_num.apply( np.mean ) ).T\n",
    "tc2 = pd.DataFrame( atributos_num.apply( np.median ) ).T\n",
    "\n",
    "# Tendencia de dispersao - std, min, max, range, skew, kurtosis\n",
    "td1 = pd.DataFrame( atributos_num.apply( np.std ) ).T\n",
    "td2 = pd.DataFrame( atributos_num.apply( min ) ).T\n",
    "td3 = pd.DataFrame( atributos_num.apply( max ) ).T\n",
    "td4 = pd.DataFrame( atributos_num.apply( lambda x: x.max() - x.min() ) ).T\n",
    "td5 = pd.DataFrame( atributos_num.apply( lambda x: x.skew() ) ).T\n",
    "td6 = pd.DataFrame( atributos_num.apply( lambda x: x.kurtosis() ) ).T\n",
    "\n",
    "# concat\n",
    "ct = pd.concat( [td2, td3, td1, tc1, tc2, td4, td5, td6] ).T.reset_index()\n",
    "ct.columns = ['atributos', 'min', 'max', 'range', 'media', 'mediana', 'std', 'skew', 'kurtosis']\n",
    "ct"
   ]
  },
  {
   "cell_type": "code",
   "execution_count": null,
   "id": "f7188fc3",
   "metadata": {},
   "outputs": [],
   "source": []
  }
 ],
 "metadata": {
  "kernelspec": {
   "display_name": "Python 3 (ipykernel)",
   "language": "python",
   "name": "python3"
  },
  "language_info": {
   "codemirror_mode": {
    "name": "ipython",
    "version": 3
   },
   "file_extension": ".py",
   "mimetype": "text/x-python",
   "name": "python",
   "nbconvert_exporter": "python",
   "pygments_lexer": "ipython3",
   "version": "3.8.12"
  }
 },
 "nbformat": 4,
 "nbformat_minor": 5
}
