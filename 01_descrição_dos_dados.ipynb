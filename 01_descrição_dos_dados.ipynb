{
 "cells": [
  {
   "cell_type": "markdown",
   "id": "def2dd16",
   "metadata": {},
   "source": [
    "# 0.0. Intruducao"
   ]
  },
  {
   "cell_type": "markdown",
   "id": "1fafd991",
   "metadata": {},
   "source": [
    "## 0.1. Biblíotecas"
   ]
  },
  {
   "cell_type": "code",
   "execution_count": 1,
   "id": "9ad7705a",
   "metadata": {
    "ExecuteTime": {
     "end_time": "2022-02-09T00:24:54.886597Z",
     "start_time": "2022-02-09T00:24:51.048430Z"
    }
   },
   "outputs": [],
   "source": [
    "import pandas as pd\n",
    "import numpy  as np\n",
    "import seaborn as sns\n",
    "import matplotlib.pyplot as plt\n",
    "\n",
    "import warnings\n",
    "\n",
    "warnings.filterwarnings('ignore')"
   ]
  },
  {
   "cell_type": "markdown",
   "id": "4e518e4b",
   "metadata": {},
   "source": [
    "## 0.2. Loading dos Dados"
   ]
  },
  {
   "cell_type": "code",
   "execution_count": 2,
   "id": "2831cace",
   "metadata": {
    "ExecuteTime": {
     "end_time": "2022-02-09T00:24:56.185597Z",
     "start_time": "2022-02-09T00:24:54.886597Z"
    }
   },
   "outputs": [],
   "source": [
    "df = pd.read_csv( 'train_users_2.csv', low_memory = True )\n",
    "df_sessions = pd.read_csv( 'sessions.csv', low_memory= True )"
   ]
  },
  {
   "cell_type": "markdown",
   "id": "63388e17",
   "metadata": {},
   "source": [
    "## 0.3. Funcoes Auxiliares"
   ]
  },
  {
   "cell_type": "code",
   "execution_count": 3,
   "id": "9ff16167",
   "metadata": {
    "ExecuteTime": {
     "end_time": "2022-02-09T00:24:56.196785Z",
     "start_time": "2022-02-09T00:24:56.185597Z"
    }
   },
   "outputs": [],
   "source": [
    "# get_stats\n",
    "def get_stats(x):\n",
    "    # Tendencia Central - mean, median\n",
    "    tc1 = pd.DataFrame( x.apply( np.mean ) ).T\n",
    "    tc2 = pd.DataFrame( x.apply( np.median ) ).T\n",
    "\n",
    "    # Tendencia de dispersao - std, min, max, range, skew, kurtosis\n",
    "    td1 = pd.DataFrame( x.apply( np.std ) ).T\n",
    "    td2 = pd.DataFrame( x.apply( min ) ).T\n",
    "    td3 = pd.DataFrame( x.apply( max ) ).T\n",
    "    td4 = pd.DataFrame( x.apply( lambda i: i.max() - i.min() ) ).T\n",
    "    td5 = pd.DataFrame( x.apply( lambda i: i.skew() ) ).T\n",
    "    td6 = pd.DataFrame( x.apply( lambda i: i.kurtosis() ) ).T\n",
    "\n",
    "    # concat\n",
    "    ct = pd.concat( [td2, td3, td4, tc1, tc2, td1, td5, td6] ).T.reset_index()\n",
    "    ct.columns = ['atributos', 'min', 'max', 'range', 'media', 'mediana', 'std', 'skew', 'kurtosis']\n",
    "    \n",
    "    return ct"
   ]
  },
  {
   "cell_type": "markdown",
   "id": "9f2d5a97",
   "metadata": {},
   "source": [
    "# 1.0. Descricao dos Dados"
   ]
  },
  {
   "cell_type": "code",
   "execution_count": 4,
   "id": "6840bcfd",
   "metadata": {
    "ExecuteTime": {
     "end_time": "2022-02-09T00:24:56.255478Z",
     "start_time": "2022-02-09T00:24:56.198870Z"
    }
   },
   "outputs": [],
   "source": [
    "df1 = df.copy()\n",
    "df1_sessions = df_sessions"
   ]
  },
  {
   "cell_type": "markdown",
   "id": "527ed7ed",
   "metadata": {},
   "source": [
    "## 1.1. Dimensionalidade"
   ]
  },
  {
   "cell_type": "code",
   "execution_count": 5,
   "id": "dd911ccd",
   "metadata": {
    "ExecuteTime": {
     "end_time": "2022-02-09T00:24:56.270440Z",
     "start_time": "2022-02-09T00:24:56.255478Z"
    }
   },
   "outputs": [
    {
     "name": "stdout",
     "output_type": "stream",
     "text": [
      "Número de linhas: 213451\n",
      "Número de colunas: 16\n"
     ]
    }
   ],
   "source": [
    "print( 'Número de linhas: {}'.format( df1.shape[0] ) )\n",
    "print( 'Número de colunas: {}'.format( df1.shape[1] ) )"
   ]
  },
  {
   "cell_type": "code",
   "execution_count": 6,
   "id": "03fa997d",
   "metadata": {
    "ExecuteTime": {
     "end_time": "2022-02-09T00:24:56.278442Z",
     "start_time": "2022-02-09T00:24:56.270440Z"
    }
   },
   "outputs": [
    {
     "name": "stdout",
     "output_type": "stream",
     "text": [
      "Número de linhas: 1056773\n",
      "Número de colunas: 6\n"
     ]
    }
   ],
   "source": [
    "print( 'Número de linhas: {}'.format( df1_sessions.shape[0] ) )\n",
    "print( 'Número de colunas: {}'.format( df1_sessions.shape[1] ) )"
   ]
  },
  {
   "cell_type": "markdown",
   "id": "e14be3bd",
   "metadata": {},
   "source": [
    "## 1.2. Data type"
   ]
  },
  {
   "cell_type": "code",
   "execution_count": 7,
   "id": "6220be35",
   "metadata": {
    "ExecuteTime": {
     "end_time": "2022-02-09T00:24:56.299838Z",
     "start_time": "2022-02-09T00:24:56.278442Z"
    }
   },
   "outputs": [
    {
     "data": {
      "text/plain": [
       "id                          object\n",
       "date_account_created        object\n",
       "timestamp_first_active       int64\n",
       "date_first_booking          object\n",
       "gender                      object\n",
       "age                        float64\n",
       "signup_method               object\n",
       "signup_flow                  int64\n",
       "language                    object\n",
       "affiliate_channel           object\n",
       "affiliate_provider          object\n",
       "first_affiliate_tracked     object\n",
       "signup_app                  object\n",
       "first_device_type           object\n",
       "first_browser               object\n",
       "country_destination         object\n",
       "dtype: object"
      ]
     },
     "execution_count": 7,
     "metadata": {},
     "output_type": "execute_result"
    }
   ],
   "source": [
    "df1.dtypes"
   ]
  },
  {
   "cell_type": "code",
   "execution_count": 8,
   "id": "81f5cda4",
   "metadata": {
    "ExecuteTime": {
     "end_time": "2022-02-09T00:24:56.309557Z",
     "start_time": "2022-02-09T00:24:56.299838Z"
    }
   },
   "outputs": [
    {
     "data": {
      "text/plain": [
       "user_id           object\n",
       "action            object\n",
       "action_type       object\n",
       "action_detail     object\n",
       "device_type       object\n",
       "secs_elapsed     float64\n",
       "dtype: object"
      ]
     },
     "execution_count": 8,
     "metadata": {},
     "output_type": "execute_result"
    }
   ],
   "source": [
    "df1_sessions.dtypes"
   ]
  },
  {
   "cell_type": "code",
   "execution_count": 9,
   "id": "88d0587a",
   "metadata": {
    "ExecuteTime": {
     "end_time": "2022-02-09T00:24:56.347205Z",
     "start_time": "2022-02-09T00:24:56.309557Z"
    }
   },
   "outputs": [
    {
     "data": {
      "text/plain": [
       "NDF      0.768428\n",
       "US       0.156529\n",
       "other    0.028617\n",
       "FR       0.014888\n",
       "IT       0.009081\n",
       "GB       0.006251\n",
       "ES       0.006171\n",
       "CA       0.003989\n",
       "DE       0.002387\n",
       "NL       0.001818\n",
       "AU       0.001171\n",
       "PT       0.000671\n",
       "Name: country_destination, dtype: float64"
      ]
     },
     "execution_count": 9,
     "metadata": {},
     "output_type": "execute_result"
    }
   ],
   "source": [
    "aux = df1[df1['age'].isna()]\n",
    "aux['country_destination'].value_counts( normalize=True )"
   ]
  },
  {
   "cell_type": "markdown",
   "id": "5e5759ed",
   "metadata": {},
   "source": [
    "## 1.2. Check Na"
   ]
  },
  {
   "cell_type": "markdown",
   "id": "ef6f5edb",
   "metadata": {},
   "source": [
    "### 1.2.1. Check df1"
   ]
  },
  {
   "cell_type": "code",
   "execution_count": 10,
   "id": "b19baca8",
   "metadata": {
    "ExecuteTime": {
     "end_time": "2022-02-09T00:24:56.648077Z",
     "start_time": "2022-02-09T00:24:56.347205Z"
    }
   },
   "outputs": [
    {
     "data": {
      "text/plain": [
       "id                         0.000000\n",
       "date_account_created       0.000000\n",
       "timestamp_first_active     0.000000\n",
       "date_first_booking         0.583473\n",
       "gender                     0.000000\n",
       "age                        0.412226\n",
       "signup_method              0.000000\n",
       "signup_flow                0.000000\n",
       "language                   0.000000\n",
       "affiliate_channel          0.000000\n",
       "affiliate_provider         0.000000\n",
       "first_affiliate_tracked    0.028414\n",
       "signup_app                 0.000000\n",
       "first_device_type          0.000000\n",
       "first_browser              0.000000\n",
       "country_destination        0.000000\n",
       "dtype: float64"
      ]
     },
     "execution_count": 10,
     "metadata": {},
     "output_type": "execute_result"
    }
   ],
   "source": [
    "#porcentagem dos dados faltantes por feature\n",
    "df1.isna().sum() / len( df1 )"
   ]
  },
  {
   "cell_type": "code",
   "execution_count": 11,
   "id": "946cc5e0",
   "metadata": {
    "ExecuteTime": {
     "end_time": "2022-02-09T00:24:56.811692Z",
     "start_time": "2022-02-09T00:24:56.648077Z"
    }
   },
   "outputs": [
    {
     "data": {
      "text/plain": [
       "(207386, 16)"
      ]
     },
     "execution_count": 11,
     "metadata": {},
     "output_type": "execute_result"
    }
   ],
   "source": [
    "# remover missing values\n",
    "#df1 = df1.dropna()\n",
    "\n",
    "#date_first_booking\n",
    "date_first_booking_max = pd.to_datetime( df1['date_first_booking'] ).max().strftime( '%Y-%m-%d' )\n",
    "df1['date_first_booking'] = df1['date_first_booking'].fillna( date_first_booking_max )\n",
    "\n",
    "#age\n",
    "avg_age = df1['age'].mean().astype( int )\n",
    "df1['age'] = df1['age'].fillna( avg_age )\n",
    "\n",
    "#first_affiliate_tracked\n",
    "df1 = df1[~df1['first_affiliate_tracked'].isna()]\n",
    "\n",
    "df1.shape"
   ]
  },
  {
   "cell_type": "markdown",
   "id": "0f5c4d68",
   "metadata": {},
   "source": [
    "### 1.2.2. Check df1_sessions"
   ]
  },
  {
   "cell_type": "code",
   "execution_count": 12,
   "id": "24327701",
   "metadata": {
    "ExecuteTime": {
     "end_time": "2022-02-09T00:24:57.393271Z",
     "start_time": "2022-02-09T00:24:56.811692Z"
    }
   },
   "outputs": [
    {
     "data": {
      "text/plain": [
       "user_id          0.003225\n",
       "action           0.007399\n",
       "action_type      0.106714\n",
       "action_detail    0.106714\n",
       "device_type      0.000000\n",
       "secs_elapsed     0.012966\n",
       "dtype: float64"
      ]
     },
     "execution_count": 12,
     "metadata": {},
     "output_type": "execute_result"
    }
   ],
   "source": [
    "#porcentagem dos dados faltantes por feature\n",
    "df1_sessions.isna().sum() / len( df1_sessions )"
   ]
  },
  {
   "cell_type": "code",
   "execution_count": 13,
   "id": "bf6c3521",
   "metadata": {
    "ExecuteTime": {
     "end_time": "2022-02-09T00:24:57.853347Z",
     "start_time": "2022-02-09T00:24:57.393271Z"
    }
   },
   "outputs": [],
   "source": [
    "# drop na\n",
    "\n",
    "#user_id - 0.3%\n",
    "df1_sessions = df1_sessions[~df1_sessions['user_id'].isna()]\n",
    "\n",
    "#action - 0.7%\n",
    "df1_sessions = df1_sessions[~df1_sessions['action'].isna()]\n",
    "\n",
    "#action_type - 10.6%\n",
    "df1_sessions = df1_sessions[~df1_sessions['action_type'].isna()]\n",
    "\n",
    "#action_detail - 10.6%\n",
    "df1_sessions = df1_sessions[~df1_sessions['action_detail'].isna()]\n",
    "\n",
    "#secs_elepsed - 1.2%\n",
    "df1_sessions = df1_sessions[~df1_sessions['secs_elapsed'].isna()]"
   ]
  },
  {
   "cell_type": "markdown",
   "id": "e81d9d63",
   "metadata": {
    "ExecuteTime": {
     "end_time": "2022-01-18T00:30:57.640310Z",
     "start_time": "2022-01-18T00:30:57.552647Z"
    }
   },
   "source": [
    "## 1.3. Change Types"
   ]
  },
  {
   "cell_type": "code",
   "execution_count": 14,
   "id": "e3965c22",
   "metadata": {
    "ExecuteTime": {
     "end_time": "2022-02-09T00:24:58.595007Z",
     "start_time": "2022-02-09T00:24:57.853603Z"
    }
   },
   "outputs": [],
   "source": [
    "#date_account_created\n",
    "df1['date_account_created'] = pd.to_datetime( df['date_account_created'] )\n",
    "\n",
    "#timestamp_first_active\n",
    "df1['timestamp_first_active'] = pd.to_datetime( df['timestamp_first_active'], format = \"%Y%m%d%H%M%S\" )\n",
    "\n",
    "#date_first_booking\n",
    "df1['date_first_booking'] = pd.to_datetime( df['date_first_booking'] )\n",
    "\n",
    "#age\n",
    "df1['age'] = df1['age'].astype( int )"
   ]
  },
  {
   "cell_type": "markdown",
   "id": "e460c940",
   "metadata": {},
   "source": [
    "## 1.4. Check Balancemento dos Dados"
   ]
  },
  {
   "cell_type": "code",
   "execution_count": 15,
   "id": "bae0d561",
   "metadata": {
    "ExecuteTime": {
     "end_time": "2022-02-09T00:24:58.619608Z",
     "start_time": "2022-02-09T00:24:58.595007Z"
    }
   },
   "outputs": [
    {
     "data": {
      "text/plain": [
       "NDF      0.579673\n",
       "US       0.294461\n",
       "other    0.048128\n",
       "FR       0.023623\n",
       "IT       0.013458\n",
       "GB       0.011066\n",
       "ES       0.010671\n",
       "CA       0.006707\n",
       "DE       0.005020\n",
       "NL       0.003621\n",
       "AU       0.002541\n",
       "PT       0.001032\n",
       "Name: country_destination, dtype: float64"
      ]
     },
     "execution_count": 15,
     "metadata": {},
     "output_type": "execute_result"
    }
   ],
   "source": [
    "df1['country_destination'].value_counts( normalize=True )"
   ]
  },
  {
   "cell_type": "markdown",
   "id": "91ae983c",
   "metadata": {},
   "source": [
    "## 1.5. Estatistica Descritiva"
   ]
  },
  {
   "cell_type": "code",
   "execution_count": 16,
   "id": "b2724d01",
   "metadata": {
    "ExecuteTime": {
     "end_time": "2022-02-09T00:24:58.635607Z",
     "start_time": "2022-02-09T00:24:58.619608Z"
    }
   },
   "outputs": [],
   "source": [
    "atributos_num = df1.select_dtypes( include = [int, 'float64'] )\n",
    "atributos_cat = df1.select_dtypes( exclude = [int, 'float64'] )\n",
    "atributos_time = df1.select_dtypes( include = ['datetime64[ns]'] )"
   ]
  },
  {
   "cell_type": "code",
   "execution_count": 17,
   "id": "ede80915",
   "metadata": {
    "ExecuteTime": {
     "end_time": "2022-02-09T00:24:58.651618Z",
     "start_time": "2022-02-09T00:24:58.635607Z"
    }
   },
   "outputs": [],
   "source": [
    "atributos_num_sessions = df1_sessions.select_dtypes( include = ['float64'] )\n",
    "atributos_cat_sessions = df1_sessions.select_dtypes( exclude = ['float64'] )"
   ]
  },
  {
   "cell_type": "markdown",
   "id": "51143533",
   "metadata": {
    "ExecuteTime": {
     "end_time": "2022-01-26T00:10:03.436218Z",
     "start_time": "2022-01-26T00:10:03.421031Z"
    }
   },
   "source": [
    "### 1.5.1. Atributos Numericos"
   ]
  },
  {
   "cell_type": "markdown",
   "id": "361413d0",
   "metadata": {},
   "source": [
    "#### 1.5.1.1. Users"
   ]
  },
  {
   "cell_type": "code",
   "execution_count": 18,
   "id": "eb37a05c",
   "metadata": {
    "ExecuteTime": {
     "end_time": "2022-02-09T00:24:58.787609Z",
     "start_time": "2022-02-09T00:24:58.651618Z"
    }
   },
   "outputs": [
    {
     "data": {
      "text/html": [
       "<div>\n",
       "<style scoped>\n",
       "    .dataframe tbody tr th:only-of-type {\n",
       "        vertical-align: middle;\n",
       "    }\n",
       "\n",
       "    .dataframe tbody tr th {\n",
       "        vertical-align: top;\n",
       "    }\n",
       "\n",
       "    .dataframe thead th {\n",
       "        text-align: right;\n",
       "    }\n",
       "</style>\n",
       "<table border=\"1\" class=\"dataframe\">\n",
       "  <thead>\n",
       "    <tr style=\"text-align: right;\">\n",
       "      <th></th>\n",
       "      <th>atributos</th>\n",
       "      <th>min</th>\n",
       "      <th>max</th>\n",
       "      <th>range</th>\n",
       "      <th>media</th>\n",
       "      <th>mediana</th>\n",
       "      <th>std</th>\n",
       "      <th>skew</th>\n",
       "      <th>kurtosis</th>\n",
       "    </tr>\n",
       "  </thead>\n",
       "  <tbody>\n",
       "    <tr>\n",
       "      <th>0</th>\n",
       "      <td>age</td>\n",
       "      <td>1.0</td>\n",
       "      <td>2014.0</td>\n",
       "      <td>2013.0</td>\n",
       "      <td>49.183142</td>\n",
       "      <td>49.0</td>\n",
       "      <td>118.421689</td>\n",
       "      <td>16.333820</td>\n",
       "      <td>267.655434</td>\n",
       "    </tr>\n",
       "    <tr>\n",
       "      <th>1</th>\n",
       "      <td>signup_flow</td>\n",
       "      <td>0.0</td>\n",
       "      <td>25.0</td>\n",
       "      <td>25.0</td>\n",
       "      <td>3.151490</td>\n",
       "      <td>0.0</td>\n",
       "      <td>7.543915</td>\n",
       "      <td>2.287158</td>\n",
       "      <td>3.567794</td>\n",
       "    </tr>\n",
       "  </tbody>\n",
       "</table>\n",
       "</div>"
      ],
      "text/plain": [
       "     atributos  min     max   range      media  mediana         std  \\\n",
       "0          age  1.0  2014.0  2013.0  49.183142     49.0  118.421689   \n",
       "1  signup_flow  0.0    25.0    25.0   3.151490      0.0    7.543915   \n",
       "\n",
       "        skew    kurtosis  \n",
       "0  16.333820  267.655434  \n",
       "1   2.287158    3.567794  "
      ]
     },
     "execution_count": 18,
     "metadata": {},
     "output_type": "execute_result"
    }
   ],
   "source": [
    "get_stats( atributos_num )"
   ]
  },
  {
   "cell_type": "markdown",
   "id": "bdc7c846",
   "metadata": {},
   "source": [
    "#### 1.5.1.2. Sesseions"
   ]
  },
  {
   "cell_type": "code",
   "execution_count": 19,
   "id": "ec1f6df4",
   "metadata": {
    "ExecuteTime": {
     "end_time": "2022-02-09T00:24:59.048139Z",
     "start_time": "2022-02-09T00:24:58.787609Z"
    }
   },
   "outputs": [
    {
     "data": {
      "text/html": [
       "<div>\n",
       "<style scoped>\n",
       "    .dataframe tbody tr th:only-of-type {\n",
       "        vertical-align: middle;\n",
       "    }\n",
       "\n",
       "    .dataframe tbody tr th {\n",
       "        vertical-align: top;\n",
       "    }\n",
       "\n",
       "    .dataframe thead th {\n",
       "        text-align: right;\n",
       "    }\n",
       "</style>\n",
       "<table border=\"1\" class=\"dataframe\">\n",
       "  <thead>\n",
       "    <tr style=\"text-align: right;\">\n",
       "      <th></th>\n",
       "      <th>atributos</th>\n",
       "      <th>min</th>\n",
       "      <th>max</th>\n",
       "      <th>range</th>\n",
       "      <th>media</th>\n",
       "      <th>mediana</th>\n",
       "      <th>std</th>\n",
       "      <th>skew</th>\n",
       "      <th>kurtosis</th>\n",
       "    </tr>\n",
       "  </thead>\n",
       "  <tbody>\n",
       "    <tr>\n",
       "      <th>0</th>\n",
       "      <td>secs_elapsed</td>\n",
       "      <td>0.0</td>\n",
       "      <td>1799646.0</td>\n",
       "      <td>1799646.0</td>\n",
       "      <td>20072.882262</td>\n",
       "      <td>1373.0</td>\n",
       "      <td>89371.933206</td>\n",
       "      <td>11.100057</td>\n",
       "      <td>153.74554</td>\n",
       "    </tr>\n",
       "  </tbody>\n",
       "</table>\n",
       "</div>"
      ],
      "text/plain": [
       "      atributos  min        max      range         media  mediana  \\\n",
       "0  secs_elapsed  0.0  1799646.0  1799646.0  20072.882262   1373.0   \n",
       "\n",
       "            std       skew   kurtosis  \n",
       "0  89371.933206  11.100057  153.74554  "
      ]
     },
     "execution_count": 19,
     "metadata": {},
     "output_type": "execute_result"
    }
   ],
   "source": [
    "get_stats( atributos_num_sessions )"
   ]
  },
  {
   "cell_type": "code",
   "execution_count": null,
   "id": "06b929df",
   "metadata": {},
   "outputs": [],
   "source": []
  }
 ],
 "metadata": {
  "kernelspec": {
   "display_name": "Python 3 (ipykernel)",
   "language": "python",
   "name": "python3"
  },
  "language_info": {
   "codemirror_mode": {
    "name": "ipython",
    "version": 3
   },
   "file_extension": ".py",
   "mimetype": "text/x-python",
   "name": "python",
   "nbconvert_exporter": "python",
   "pygments_lexer": "ipython3",
   "version": "3.8.12"
  }
 },
 "nbformat": 4,
 "nbformat_minor": 5
}
